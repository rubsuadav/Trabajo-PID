{
 "cells": [
  {
   "cell_type": "markdown",
   "id": "f98a7b6b-4955-452a-b5ab-66fbea5c8e8d",
   "metadata": {},
   "source": [
    "# Índice\n",
    "1. [Introducción](#Introducción)\n",
    "2. [Métodos genéricos](#Métodos-genéricos)\n",
    "3. [Ittens colors](#Ittens-colors)\n",
    "4. [Ostwald colors](#Ostwald-colors)\n",
    "5. [Color H](#Color-H)\n",
    "6. [Testing](#Testing)\n",
    "7. [Conclusiones](#Conclusiones)"
   ]
  },
  {
   "cell_type": "markdown",
   "id": "0009de8d-1708-4cef-9ab4-df6d1c61bbd7",
   "metadata": {},
   "source": [
    "<a id=\"introduccion\"></a>\n",
    "\n",
    "## Introducción\n",
    "\n",
    "<p align=\"justify\"> A lo largo de la historia del arte, todo artista se ha enfrentado a todo tipo de retos intentando transmitir el mensaje de su obra al público. Aunque áreas del conocimiento como anatomía, perspectiva o geometría son esenciales, el estudio de los colores en sí es un campo que ha sido difícil de estudiar. </p>\n",
    "\n",
    "<p align=\"justify\"> Han existido muchos tratados del color, siempre cambiantes junto con nuestra comprensión científica de la luz. Desde el primer estudio sobre el color de Aristóteles, asociado a los elementos (agua, tierra, fuego y aire) hasta la separación del espectro de luz visible de Isaac Newton, han surgido incontables maneras de relacionar colores entre sí. </p>\n",
    "\n",
    "<p align=\"justify\"> Es por esto que hoy en día un artista tiene a su disposición múltiples esquemas y gráficos que prometen hallar las mejores combinaciones de colores, cada uno basado en un principio diferente. </p>\n",
    "\n",
    "<p align=\"justify\"> Con este trabajo, nos proponemos explorar estas ruedas del color junto con sus bases científicas, ya sea digitalizando ruedas clásicas analógicas, o empleando diferentes algoritmos utilizados para los modelos más nuevos. </p>\n",
    "\n",
    "<p align=\"justify\"> Este trabajo resultará de una herramienta que analiza una imagen, detectando la paleta de colores actuales y ofreciendo una paleta nueva al detectar los colores principales y calcular sus complementarios en función de la rueda del color que elija el usuario. </p>\n"
   ]
  },
  {
   "cell_type": "markdown",
   "id": "5e3e7a97-93e9-4c94-997e-dc3a26af0dc1",
   "metadata": {},
   "source": [
    "<a id=\"Métodos-genéricos\"></a>\n",
    "## Métodos Genéricos"
   ]
  },
  {
   "cell_type": "code",
   "execution_count": 12,
   "id": "c3be876e",
   "metadata": {},
   "outputs": [],
   "source": [
    "import cv2\n",
    "import matplotlib.pyplot as plt\n",
    "from cv2.typing import *\n",
    "import numpy as np\n",
    "import matplotlib.patches as patches\n",
    "from ipywidgets import interactive\n",
    "\n",
    "def no_flicker_inter(*args, **kwargs):\n",
    "    it = interactive(*args, **kwargs)\n",
    "    o = it.children[-1]\n",
    "    o.layout.height = \"350px\"\n",
    "    return it\n",
    "\n",
    "def load_image(image_path: str):\n",
    "    \"\"\"Dada la ruta de la imágen, devuelve la imagen en RGBA\n",
    "\n",
    "    Args:\n",
    "        image_path (str): La ruta a la imagen\n",
    "\n",
    "    Returns:\n",
    "        La imagen en formato RGBA\n",
    "    \"\"\"\n",
    "\n",
    "    image = cv2.imread(image_path, cv2.IMREAD_UNCHANGED)\n",
    "    return cv2.cvtColor(image, cv2.COLOR_BGRA2RGBA)\n",
    "\n",
    "\n",
    "def display_image(image: MatLike, title: str):\n",
    "    \"\"\"Dada una imagen y un título, muestra la imagen con el título especificado\n",
    "\n",
    "    Args:\n",
    "        image: La matriz de valores de una imagen en RGB(A) \n",
    "        title: Título de la imagen\n",
    "    \"\"\"\n",
    "    plt.imshow(image)\n",
    "    plt.title(title)\n",
    "    plt.axis('off')  # Turn off the axis\n",
    "\n",
    "\n",
    "def split_alpha(image):\n",
    "    \"\"\"Dada una imagen, devuelve los canales RGB y el Alfa por separado\n",
    "\n",
    "    Args:\n",
    "        image: La imagen a separar sus canales\n",
    "\n",
    "    Returns:\n",
    "        rgb_image: Los canales RGB de la imagen\n",
    "        alpha: El canal Alfa de la imagen\n",
    "    \"\"\"\n",
    "    rgb_image = image[:, :, :3]\n",
    "    alpha = image[:, :, 3]\n",
    "    return rgb_image, alpha\n",
    "\n",
    "\n",
    "def merge_alpha(image, alpha):\n",
    "    \"\"\"Dada una imagen en RGB y una matriz de su mismo tamaño con valores Alfa,\n",
    "    devuelve la imagen en formato RGBA\n",
    "\n",
    "    Args:\n",
    "        image: La imagen en RGB\n",
    "        alpha: La matriz del Alfa\n",
    "\n",
    "    Returns:\n",
    "        La imagen en RGBA\n",
    "    \"\"\"\n",
    "    rgba_image = cv2.cvtColor(image, cv2.COLOR_RGB2RGBA)\n",
    "    rgba_image = np.dstack((image, alpha))\n",
    "    return rgba_image"
   ]
  },
  {
   "cell_type": "markdown",
   "id": "70e7ac2e",
   "metadata": {},
   "source": [
    "El algoritmo de cuantización de la imagen en el código proporcionado sigue estos pasos:\n",
    "\n",
    "1. **Reformatear la imagen**: La imagen se reformatea en un array 2D donde cada fila es un pixel y las columnas son los canales de color (RGB). Esto se hace con `Z = image.reshape((-1, 3))`.\n",
    "\n",
    "2. **Conversión a float32**: Los valores de los píxeles se convierten a float32 para poder realizar cálculos con ellos. Esto se hace con `Z = np.float32(Z)`.\n",
    "\n",
    "3. **Definir criterios para k-means**: Se definen los criterios para el algoritmo k-means. En este caso, se detiene el algoritmo después de 10 iteraciones o si la suma de las distancias al cuadrado es menor que 1.0. Esto se hace con `criteria = (cv2.TERM_CRITERIA_EPS + cv2.TERM_CRITERIA_MAX_ITER, 10, 1.0)`.\n",
    "\n",
    "4. **Aplicar k-means**: Se aplica el algoritmo k-means a los datos. Esto agrupa los píxeles en `n_colors` grupos basados en su color. Esto se hace con `ret, label, center = cv2.kmeans(Z, n_colors, None, criteria, 10, cv2.KMEANS_RANDOM_CENTERS)`.\n",
    "\n",
    "5. **Conversión a uint8 y reconstrucción de la imagen**: Los centros de los grupos se convierten de nuevo a uint8 y se utiliza para reemplazar cada pixel de la imagen por el centro del grupo al que pertenece. Esto se hace con `center = np.uint8(center)`, `res = center[label.flatten()]` y `final_image = res.reshape((image.shape))`.\n",
    "\n",
    "6. **Retorno de la imagen cuantizada**: Finalmente, se devuelve la imagen cuantizada con `return final_image`.\n"
   ]
  },
  {
   "cell_type": "code",
   "execution_count": 13,
   "id": "a190b2e0",
   "metadata": {},
   "outputs": [],
   "source": [
    "def quantize_image(image: MatLike, n_colors):\n",
    "    \"\"\"Dada una imagen y el número de colores con la que quieres cuantizar,\n",
    "    devuelve la misma imagen con sus colores cuantizados.\n",
    "\n",
    "    Args:\n",
    "        image: La imagen a cuantizar\n",
    "        n_colors: El número de colores de la imagen resultante\n",
    "\n",
    "    Returns:\n",
    "        Imagen cuantizada con el número de colores especificados\n",
    "    \"\"\"\n",
    "    Z = image.reshape((-1, 3))\n",
    "    # convert to np.float32\n",
    "    Z = np.float32(Z)\n",
    "    # define criteria, number of clusters(K) and apply kmeans()\n",
    "    criteria = (cv2.TERM_CRITERIA_EPS + cv2.TERM_CRITERIA_MAX_ITER, 10, 1.0)\n",
    "    ret, label, center = cv2.kmeans(\n",
    "        Z, n_colors, None, criteria, 10, cv2.KMEANS_RANDOM_CENTERS)\n",
    "    # Now convert back into uint8, and make original image\n",
    "    center = np.uint8(center)\n",
    "    res = center[label.flatten()]\n",
    "    final_image = res.reshape((image.shape))\n",
    "\n",
    "    return final_image"
   ]
  },
  {
   "cell_type": "markdown",
   "id": "c6bdf362",
   "metadata": {},
   "source": [
    "El algoritmo `get_colors` en el código proporcionado sigue estos pasos:\n",
    "\n",
    "1. **Inicialización del diccionario de colores**: Se crea un diccionario vacío `colors` que almacenará los colores de los píxeles y sus respectivas cantidades.\n",
    "\n",
    "2. **Iteración sobre los píxeles de la imagen**: Se itera sobre cada píxel de la imagen utilizando dos bucles `while`. El primer bucle `while` itera sobre las filas de la imagen (con `i` como índice), y el segundo bucle `while` itera sobre las columnas de la imagen (con `j` como índice).\n",
    "\n",
    "3. **Obtención del color del píxel**: Para cada píxel, se obtiene su color (que es un trío de valores RGB) y se convierte en una tupla con `pixel = tuple(image_array[i, j])`.\n",
    "\n",
    "4. **Actualización del diccionario de colores**: Si el color del píxel ya está en el diccionario `colors`, se incrementa su cantidad en 1. Si no está, se añade al diccionario con una cantidad de 1. Esto se hace con:\n",
    "\n",
    "   ```markdown\n",
    "   if pixel in colors:\n",
    "   colors[pixel] = colors[pixel]+1\n",
    "   else:\n",
    "   colors[pixel] = 1\n",
    "   ```\n",
    "\n",
    "5. **Incremento del índice de la columna**: Después de procesar un píxel, se incrementa el índice de la columna `j` en 1 con `j = j+1`.\n",
    "\n",
    "6. **Reinicio del índice de la columna y incremento del índice de la fila**: Después de procesar una fila completa de píxeles, se reinicia el índice de la columna `j` a 0 y se incrementa el índice de la fila `i` en 1 con `j = 0` y `i = i+1`.\n",
    "\n",
    "7. **Retorno del diccionario de colores**: Finalmente, después de procesar todos los píxeles de la imagen, se devuelve el diccionario `colors` con `return colors`.\n"
   ]
  },
  {
   "cell_type": "code",
   "execution_count": 14,
   "id": "cb78341e",
   "metadata": {},
   "outputs": [],
   "source": [
    "def get_colors(image_array):\n",
    "    \"\"\"Dada una imagen, devuelve un diccionario que especifica\n",
    "    la cantidad de cada color en la imagen\n",
    "\n",
    "    Args:\n",
    "        image_array: La imagen a medir\n",
    "\n",
    "    Returns:\n",
    "        colors (dict of (int, int, int):int): El diccionario con\n",
    "        las cantidades de cada color en la imagen\n",
    "    \"\"\"\n",
    "    colors = {}\n",
    "    i = 0\n",
    "    j = 0\n",
    "    while i < image_array.shape[0]:\n",
    "        while j < image_array.shape[1]:\n",
    "            pixel = tuple(image_array[i, j])\n",
    "            if pixel in colors:\n",
    "                colors[pixel] = colors[pixel]+1\n",
    "            else:\n",
    "                colors[pixel] = 1\n",
    "            j = j+1\n",
    "        j = 0\n",
    "        i = i+1\n",
    "    return colors"
   ]
  },
  {
   "cell_type": "code",
   "execution_count": 15,
   "id": "0a30bb8e",
   "metadata": {},
   "outputs": [],
   "source": [
    "blacklist = set()"
   ]
  },
  {
   "cell_type": "markdown",
   "id": "498276d5",
   "metadata": {},
   "source": [
    "El algoritmo `change_colors` en el código proporcionado sigue estos pasos:\n",
    "\n",
    "1. **Verificación de la lista negra**: Para cada color en el diccionario de paleta proporcionado, si el color está en la lista negra (blacklist), se mantiene el color original en la paleta.\n",
    "\n",
    "   ```markdown\n",
    "   for color in paleta.keys():\n",
    "   if color in blacklist:\n",
    "   paleta[tuple(color)] = color\n",
    "   ```\n",
    "\n",
    "2. **Obtención de los colores de la imagen**: Se obtienen los colores de la imagen original utilizando la función `get_colors` y se almacenan en `colors`. Luego, se obtienen las claves del diccionario `colors` (que son los colores originales de la imagen) y se almacenan en `og_palette`.\n",
    "\n",
    "   ```markdown\n",
    "   colors = get_colors(img)\n",
    "   og_palette = list(colors.keys())\n",
    "   ```\n",
    "\n",
    "3. **Creación de una copia de la imagen original**: Se crea una copia de la imagen original y se almacena en `new_im`.\n",
    "\n",
    "   ```markdown\n",
    "   new_im = img.copy()\n",
    "   ```\n",
    "\n",
    "4. **Cambio de colores**: Para cada color original en `og_palette`, se crea una máscara que tiene el mismo tamaño que la imagen original y tiene valores de 255 (blanco) en los lugares donde el color de la imagen original es igual al color original, y 0 (negro) en otros lugares. Luego, se cambian los colores en la imagen copiada `new_im` utilizando la máscara y la paleta.\n",
    "\n",
    "   ```markdown\n",
    "   for og in og_palette:\n",
    "   mask = cv2.inRange(img, np.array(og), np.array(og))\n",
    "   new_im[mask > 0] = paleta[og]\n",
    "   ```\n",
    "\n",
    "5. **Retorno de la nueva imagen**: Finalmente, se devuelve la imagen con los colores cambiados.\n",
    "\n",
    "   ```markdown\n",
    "   return new_im\n",
    "   ```\n"
   ]
  },
  {
   "cell_type": "code",
   "execution_count": 16,
   "id": "fa43a9ac",
   "metadata": {},
   "outputs": [],
   "source": [
    "def change_colors(img: MatLike, paleta: dict):\n",
    "    \"\"\"Dada una imagen y un diccionario que contiene las conversiones\n",
    "    de distintos colores, devuelve una imagen con la transformación aplicada.\n",
    "\n",
    "    Args:\n",
    "        img: Imagen a transformar\n",
    "        paleta: Diccionario, cuyas claves son colores presentes en la\n",
    "            imagen, y sus valores son los colores resultantes de la\n",
    "            transformación\n",
    "\n",
    "    Returns:\n",
    "        new_im: La imagen transformada\n",
    "    \"\"\"\n",
    "    for color in paleta.keys():\n",
    "        if color in blacklist:\n",
    "            paleta[tuple(color)] = color\n",
    "\n",
    "    colors = get_colors(img)\n",
    "    og_palette = list(colors.keys())\n",
    "    new_im = img.copy()\n",
    "    for og in og_palette:\n",
    "        mask = cv2.inRange(img, np.array(og), np.array(og))\n",
    "        new_im[mask > 0] = paleta[og]\n",
    "    return new_im"
   ]
  },
  {
   "cell_type": "markdown",
   "id": "33c82c84-6bbf-4cfa-b06f-51d71e82f27f",
   "metadata": {},
   "source": [
    "<a id=\"Ittens-colors\"></a>\n",
    "\n",
    "## Ittens Colors\n",
    "\n",
    "<div style=\"text-align: justify;\">\n",
    "Ittens se enfoca en el color “fantasma” que se crea al ver un cuadrado de un color dentro de otro. Trabajando con colores “puros” Ittens comprueba el contraste entre Blanco y negro: al dejar de mirar a un cuadrado blanco en fondo negro, veremos un cuadrado negro. Lo contrario ocurre en el caso contrario. Sin embargo, el cerebro no tiene que “compensar” de esta manera cuando un cuadrado gris está en un fondo gris.\n",
    "\n",
    "El objetivo de la rueda de color de Ittens es obtener complementarios según esta regla: dos colores son harmónicos entre sí si su mezcla es gris. En la rueda de Ittens, si dos colores están en sitios opuestos, cumplen esta regla.\n",
    "\n",
    "Para ello, parte de tres colores primarios: azul, rojo y amarillo. Para crear los colores secundarios mezcla cada par entre sí y coloca el resultado en medio. Para los terciarios, utiliza el mismo algoritmo con la nueva rueda de seis colores.\n",
    "\n",
    "![Texto alternativo](images/doc/rueda%20color%20ittens.png)\n",
    "\n",
    "Para tener en cuenta el nivel de gris de los colores, Ittens divide el rango entre blanco y negro en 12 particiones y los colores resultantes se mezclan con los colores de la rueda dando lugar al siguiente rango de colores:\n",
    "\n",
    "![Texto alternativo](images/doc/colores%20ittens.png)\n",
    "\n",
    "La rueda resultante sería:\n",
    "\n",
    "![Texto alternativo](images/doc/rueda%20final.png)\n",
    "\n",
    "</div>\n"
   ]
  },
  {
   "cell_type": "markdown",
   "id": "a25af357",
   "metadata": {},
   "source": [
    "<div style=\"text-align: justify;\">\n",
    "El algoritmo `build_ittens_colors` en el código proporcionado sigue estos pasos:\n",
    "\n",
    "1. **Inicialización del diccionario de colores de Ittens**: Se crea un diccionario vacío `ittens_colors` que almacenará los colores de la paleta de Ittens.\n",
    "\n",
    "   ```markdown\n",
    "   ittens_colors = {}\n",
    "   ```\n",
    "\n",
    "2. **Definición de los índices y el tamaño de corte**: Se definen los índices `i` y `j` que se utilizarán para iterar sobre la imagen, y el tamaño de corte `cut` que se utilizará para dividir la imagen en segmentos. El tamaño de corte se calcula dividiendo el tamaño de la imagen por 12 en cada dimensión.\n",
    "\n",
    "   ```markdown\n",
    "   i = 1\n",
    "   j = 1\n",
    "   cut = (int(image.shape[1]/12), int(image.shape[0]/12))\n",
    "   ```\n",
    "\n",
    "3. **Definición del punto de inicio**: Se define el punto de inicio `start_point` que se utilizará para cortar la imagen. Inicialmente, este punto es `[0, cut[0]]`.\n",
    "\n",
    "   ```markdown\n",
    "   start_point = [0, cut[0]]\n",
    "   ```\n",
    "\n",
    "4. **Iteración sobre la imagen**: Se itera sobre la imagen utilizando dos bucles `while`. El primer bucle `while` itera sobre las filas de la imagen (con `i` como índice), y el segundo bucle `while` itera sobre las columnas de la imagen (con `j` como índice).\n",
    "\n",
    "5. **Corte de la imagen y obtención de colores**: Para cada segmento de la imagen, se corta la imagen utilizando el punto de inicio y el tamaño de corte, se cuantiza la imagen cortada a un solo color utilizando la función `quantize_image`, y se obtienen los colores de la imagen cuantizada utilizando la función `get_colors`. Luego, se obtiene el primer color de los colores obtenidos.\n",
    "\n",
    "   ```markdown\n",
    "   cropped_image = image[y:y+cut[0], x:x+cut[1]]\n",
    "   colors = get_colors(quantize_image(cropped_image, 1)).keys()\n",
    "   first_color = next(iter(colors), None)\n",
    "   ```\n",
    "\n",
    "6. **Actualización del diccionario de colores de Ittens**: Si el primer color obtenido no es `None`, se añade al diccionario `ittens_colors` en la posición `i`.\n",
    "\n",
    "   ```markdown\n",
    "   if first_color is not None:\n",
    "   ittens_colors[i].append(first_color)\n",
    "   ```\n",
    "\n",
    "7. **Actualización del punto de inicio y los índices**: Después de procesar un segmento de la imagen, se actualiza el punto de inicio y los índices `i` y `j`.\n",
    "\n",
    "   ```markdown\n",
    "   start_point[0] = start_point[0] + cut[0]\n",
    "   j += 1\n",
    "   j = 1\n",
    "   start_point[0] = 0\n",
    "   start_point[1] = start_point[1] + cut[1]\n",
    "   i += 1\n",
    "   ```\n",
    "\n",
    "8. **Retorno del diccionario de colores de Ittens**: Finalmente, después de procesar todos los segmentos de la imagen, se devuelve el diccionario `ittens_colors`.\n",
    "\n",
    "   ```markdown\n",
    "   return ittens_colors\n",
    "   ```\n",
    "</div>"
   ]
  },
  {
   "cell_type": "code",
   "execution_count": 17,
   "id": "5e87602e",
   "metadata": {},
   "outputs": [],
   "source": [
    "def build_ittens_colors(image: MatLike):\n",
    "    \"\"\"Dada la imagen de la paleta de colores Ittens, devuelve el diccionario\n",
    "    correspondiente a su esquema de colores\n",
    "\n",
    "    Cabe destacar que el diccionario comienza con el índice 1 en vez de 0\n",
    "\n",
    "    Args:\n",
    "        image: La imagen de Ittens\n",
    "\n",
    "    Returns:\n",
    "        ittens_colors (dict of int:list of (int, int, int)): El diccionario\n",
    "        correspondiente al esquema de colores\n",
    "    \"\"\"\n",
    "    ittens_colors = {}\n",
    "    i = 1\n",
    "    j = 1\n",
    "    cut = (int(image.shape[1]/12),  int(image.shape[0]/12))\n",
    "    start_point = [0, cut[0]]\n",
    "    while i < 13:\n",
    "        ittens_colors[i] = []\n",
    "        while j < 13:\n",
    "            y = start_point[0]\n",
    "            x = start_point[1]\n",
    "            cropped_image = image[y:y+cut[0], x:x+cut[1]]\n",
    "            colors = get_colors(quantize_image(cropped_image, 1)).keys()\n",
    "            first_color = next(iter(colors), None)\n",
    "            if first_color is not None:\n",
    "                ittens_colors[i].append(first_color)\n",
    "            start_point[0] = start_point[0] + cut[0]\n",
    "            j += 1\n",
    "        j = 1\n",
    "        start_point[0] = 0\n",
    "        start_point[1] = start_point[1] + cut[1]\n",
    "        i += 1\n",
    "    return ittens_colors"
   ]
  },
  {
   "cell_type": "code",
   "execution_count": 18,
   "id": "a6356b54",
   "metadata": {},
   "outputs": [],
   "source": [
    "def get_ittens_colors():\n",
    "    \"\"\"Devuelve los colores presentes en la rueda de colores\n",
    "    de Ittens.\n",
    "\n",
    "    Returns:\n",
    "        ittens_colors: Diccionario cuyas claves son un índice\n",
    "            numérico que comienza con 1, y sus valores son\n",
    "            listas de colores en una tonalidad específica.\n",
    "    \"\"\"\n",
    "    ittens_image = load_image(\"images/Ittens Colors.png\")\n",
    "    ittens_colors = build_ittens_colors(ittens_image[:, :, :3])\n",
    "    return ittens_colors\n",
    "ittens_colors = get_ittens_colors()"
   ]
  },
  {
   "cell_type": "code",
   "execution_count": 19,
   "id": "0791ab50",
   "metadata": {},
   "outputs": [],
   "source": [
    "def show_color_scheme(ittens_colors: dict):\n",
    "    \"\"\"Dado un diccionario de un esquema de colores, muestra todos los colores\n",
    "    del esquema, agrupados por tonalidad\n",
    "\n",
    "    Args:\n",
    "        ittens_colors (dict of int:list of (int, int, int)): diccionario del\n",
    "        esquema de colores\n",
    "    \"\"\"\n",
    "    for color in ittens_colors.keys():\n",
    "        colors = ittens_colors.get(color)\n",
    "        fig, ax = plt.subplots(1, 1, figsize=(10, 2))\n",
    "\n",
    "        # Para cada color en la lista de colores\n",
    "        for i, color in enumerate(colors):\n",
    "            # Convertir el color de formato string a formato RGB\n",
    "            rgb = color\n",
    "            rgb = [c/255. for c in rgb]  # Normalizar a [0, 1]\n",
    "\n",
    "            # Dibujar un rectángulo en el eje con el color correspondiente\n",
    "            rect = patches.Rectangle((i, 0), 1, 1, facecolor=rgb)\n",
    "            ax.add_patch(rect)\n",
    "\n",
    "        # Configurar el eje\n",
    "        ax.set_xlim(0, len(colors))\n",
    "        ax.set_ylim(0, 1)\n",
    "        ax.axis('off')  # Ocultar los ejes\n",
    "\n",
    "        plt.show()"
   ]
  },
  {
   "cell_type": "code",
   "execution_count": 20,
   "id": "bad12b2e-c8f6-4ede-95ce-2098f913b4f7",
   "metadata": {},
   "outputs": [],
   "source": [
    "def show_color_palette(colors):\n",
    "    \"\"\"Dada una paleta de colores, muestra gráficamente\n",
    "    los colores en ella\n",
    "\n",
    "    Args:\n",
    "        colors (list of (int, int, int)): La paleta de colores a\n",
    "        mostrar\n",
    "    \"\"\"\n",
    "    c = np.array(colors)/255\n",
    "    fig, ax = plt.subplots()\n",
    "    for i, color in enumerate(c):\n",
    "        rect = patches.Rectangle((i, 0), 1, 0.2, facecolor=color)\n",
    "        ax.add_patch(rect)\n",
    "    ax.set_xlim(0, len(colors))\n",
    "    ax.set_ylim(0, 0.2)\n",
    "    ax.axis(\"off\")"
   ]
  },
  {
   "cell_type": "code",
   "execution_count": 21,
   "id": "57587e22",
   "metadata": {},
   "outputs": [
    {
     "data": {
      "image/png": "[encoded data removed]",
      "text/plain": [
       "<Figure size 1000x200 with 1 Axes>"
      ]
     },
     "metadata": {},
     "output_type": "display_data"
    },
    {
     "data": {
      "image/png": "[encoded data removed]",
      "text/plain": [
       "<Figure size 1000x200 with 1 Axes>"
      ]
     },
     "metadata": {},
     "output_type": "display_data"
    },
    {
     "data": {
      "image/png": "[encoded data removed]",
      "text/plain": [
       "<Figure size 1000x200 with 1 Axes>"
      ]
     },
     "metadata": {},
     "output_type": "display_data"
    },
    {
     "data": {
      "image/png": "[encoded data removed]",
      "text/plain": [
       "<Figure size 1000x200 with 1 Axes>"
      ]
     },
     "metadata": {},
     "output_type": "display_data"
    },
    {
     "data": {
      "image/png": "[encoded data removed]",
      "text/plain": [
       "<Figure size 1000x200 with 1 Axes>"
      ]
     },
     "metadata": {},
     "output_type": "display_data"
    },
    {
     "data": {
      "image/png": "[encoded data removed]",
      "text/plain": [
       "<Figure size 1000x200 with 1 Axes>"
      ]
     },
     "metadata": {},
     "output_type": "display_data"
    },
    {
     "data": {
      "image/png": "[encoded data removed]",
      "text/plain": [
       "<Figure size 1000x200 with 1 Axes>"
      ]
     },
     "metadata": {},
     "output_type": "display_data"
    },
    {
     "data": {
      "image/png": "[encoded data removed]",
      "text/plain": [
       "<Figure size 1000x200 with 1 Axes>"
      ]
     },
     "metadata": {},
     "output_type": "display_data"
    },
    {
     "data": {
      "image/png": "[encoded data removed]",
      "text/plain": [
       "<Figure size 1000x200 with 1 Axes>"
      ]
     },
     "metadata": {},
     "output_type": "display_data"
    },
    {
     "data": {
      "image/png": "[encoded data removed]",
      "text/plain": [
       "<Figure size 1000x200 with 1 Axes>"
      ]
     },
     "metadata": {},
     "output_type": "display_data"
    },
    {
     "data": {
      "image/png": "[encoded data removed]",
      "text/plain": [
       "<Figure size 1000x200 with 1 Axes>"
      ]
     },
     "metadata": {},
     "output_type": "display_data"
    },
    {
     "data": {
      "image/png": "[encoded data removed]",
      "text/plain": [
       "<Figure size 1000x200 with 1 Axes>"
      ]
     },
     "metadata": {},
     "output_type": "display_data"
    }
   ],
   "source": [
    "show_color_scheme(ittens_colors)"
   ]
  },
  {
   "cell_type": "code",
   "execution_count": 22,
   "id": "bcfe121a",
   "metadata": {},
   "outputs": [
    {
     "data": {
      "image/png": "[encoded data removed]",
      "text/plain": [
       "<Figure size 1000x300 with 1 Axes>"
      ]
     },
     "metadata": {},
     "output_type": "display_data"
    }
   ],
   "source": [
    "plt.figure(figsize=(10, 3))\n",
    "plt.subplot(131)\n",
    "display_image(load_image(image_path=\"images/Ittens Colors.png\"),\n",
    "              'Original Image')"
   ]
  },
  {
   "cell_type": "markdown",
   "id": "8ee1441e-f533-4a96-af86-335a58493c36",
   "metadata": {},
   "source": [
    "# Transformaciones\n",
    "## Traducción a rueda de colores Ittens\n",
    "El algoritmo está contenido de la función `convert_im_to_scheme`. Dicho algoritmo sigue los siguientes pasos a\n",
    "partir del esquema de colores y la imagen:\n",
    "1. Agrupa los distintos colores de la imagen en una paleta\n",
    "2. Para cada color:\n",
    "   1. Se crea una matriz que representa la distancia euclídea de dicho color a cada color del esquema de colores\n",
    "      (`color_distance`)\n",
    "   2. Se obtiene el índice del valor mínimo, obteniendo así el color más cercano del esquema (`matrix_min_indexes`)\n",
    "3. Se aplican los colores obtenidos a la imagen\n",
    "## Transformación a distintas configuraciones de colores\n",
    "En primer lugar, estas transformaciones se basan en una agrupación de las tonalidades de los colores de la imagen\n",
    "una vez se le haya aplicado el esquema de colores.\n",
    "\n",
    "Adicionalmente, los algoritmos se han configurado para que únicamente modifiquen las tonalidades, dejando intacta\n",
    "la luminosidad.\n",
    "### Agrupamiento de tonalidades\n",
    "Al principio se optó por usar KMeans para el agrupamiento de tonalidades, pero para permitir más control sobre el mismo,\n",
    "se ha optado por lo siguiente (programado en la función `group_hues_threshold`):\n",
    "1. Empezar con todos los colores disponibles para agrupar, y repetir hasta que no quede ninguno:\n",
    "    1. Contabilizar la tonalidad más presente en la imagen\n",
    "    2. Añadir ese color y aquellos otros colores con igual o menor distancia al umbral establecido (parámetro `hue_threshold`) a\n",
    "       un grupo de tonalidad\n",
    "    3. Eliminar los colores del nuevo grupo de los colores disponibles\n",
    "2. Se devuelven los grupos en los que se han divididos los colores, su tonalidad media y la cantidad de píxeles que abarca cada grupo.\n",
    "### Configuración monocromática (`monochromatic_palette`)\n",
    "La más simple de todas, se trata de transformar la imagen para que tenga la misma tonalidad. Su algoritmo es el siguiente:\n",
    "1. Se obtiene el grupo de tonalidad que constituye la mayor parte de la imagen.\n",
    "2. A partir de la tonalidad media de ese grupo, se modifica la imagen para que sea la única que tenga.\n",
    "### Configuración complementaria (`complementary_palette`)\n",
    "Su algoritmo se rige por los siguientes pasos:\n",
    "1. Se obtiene el grupo de tonalidad que constituye la mayor parte de la imagen, que denominamos tonalidad dominante\n",
    "2. A partir de la tonalidad dominante, se calcula su tonalidad complementaria según el esquema de colores.\n",
    "3. A continuación, se modifica la tonalidad de los colores no presentes en el grupo dominante para que sea la\n",
    "   tonalidad complementaria.\n",
    "### Configuración complementaria dividida (`split_complementary_palette`)\n",
    "La más compleja de las configuraciones. Además de los parámetros del esquema de colores, la imagen y el umbral de tonalidad,\n",
    "toma uno más, que se trata de una distancia (`hue_distance`).\n",
    "1. Se obtiene el grupo de tonalidad dominante.\n",
    "2. A partir de la tonalidad dominante, se calcula su tonalidad complementaria según el esquema de colores.\n",
    "3. Tras ello, se obtienen dos tonalidades más a partir de sumar y restar la distancia a la tonalidad complementaria,\n",
    "   respectivamente, las tonalidades menores.\n",
    "4. De los colores que no pertenezcan al grupo dominante, la mitad se transfiere a la primera tonalidad menor, y la segunda mitad\n",
    "   a la otra tonalidad menor."
   ]
  },
  {
   "cell_type": "code",
   "execution_count": 23,
   "id": "60079d04-6aa6-4de3-8b86-08278aa4f725",
   "metadata": {},
   "outputs": [],
   "source": [
    "def color_distance(c1, c2):\n",
    "    \"\"\"Dados dos tuplas o matrices de valores RGB, devuelve la distancia euclídea\n",
    "    entre ellos\n",
    "\n",
    "    Args:\n",
    "        c1 (int, int, int):  El primer color en RGB\n",
    "        c2 (int, int, int):  El segundo color en RGB\n",
    "\n",
    "    Returns:\n",
    "        d float: La distancia euclídea entre los dos colores\n",
    "    \"\"\"\n",
    "\n",
    "    c1_i = np.array(c1).astype(int)\n",
    "    c2_i = np.array(c2).astype(int)\n",
    "    d = np.subtract(c1_i, c2_i)\n",
    "    d = np.linalg.norm(d, axis=2)\n",
    "    return d\n",
    "\n",
    "\n",
    "def list_distance(n, pos1, pos2):\n",
    "    \"\"\"Dada la longitud de una lista y 2 posiciones en ella,\n",
    "    devuelve la distancia entre ellas.\n",
    "\n",
    "    Se considera que un elemento al inicio de la lista y otro al final\n",
    "    tienen una distancia de 1.\n",
    "\n",
    "    Args:\n",
    "        n (int): Longitud de la lista\n",
    "        pos1 (int): Primer índice de la lista\n",
    "        pos1 (int): Segundo índice de la lista\n",
    "\n",
    "    Returns:\n",
    "        distance (int): Distancia entre las dos posiciones de la lista\n",
    "    \"\"\"\n",
    "\n",
    "    distance = abs(pos1-pos2)\n",
    "    return min(distance, n-distance)\n",
    "\n",
    "\n",
    "def matrix_min_indexes(matrix):\n",
    "    \"\"\"Dada una matriz de valores numéricos, devuelve\n",
    "    los índices necesarios para acceder al valor más pequeño\n",
    "\n",
    "    Args:\n",
    "        matrix: La matriz de la que obtener los índices\n",
    "\n",
    "    Returns:\n",
    "        indexes (int, int): Los índices para acceder al valor mínimo\n",
    "    \"\"\"\n",
    "\n",
    "    min_index = np.argmin(matrix)\n",
    "    (i1, i2) = np.unravel_index(min_index, matrix.shape)\n",
    "    return (i1+1, i2)\n",
    "\n",
    "\n",
    "def angle_to_index(angle, list_length) -> float:\n",
    "    \"\"\"Dado un ángulo en grados y una longitud de lista, devuelve el índice\n",
    "    correspondiente al ángulo al tratar la lista como un círculo\n",
    "\n",
    "    Args:\n",
    "        angle (int): El ángulo en grados\n",
    "        list_length (int): La longitud de lista\n",
    "    Returns:\n",
    "        index (int): El índice correspondiente al ángulo\n",
    "    \"\"\"\n",
    "\n",
    "    return round(angle/360*list_length)\n",
    "\n",
    "\n",
    "def rgb_to_hsv(rgb):\n",
    "    \"\"\"Dado una tupla de valor RGB, devuelve la correspondiente tupla en\n",
    "    valores HSV\n",
    "\n",
    "    Args:\n",
    "        rgb (int, int, int): La tupla del valor RGB\n",
    "    Returns:\n",
    "        hsv (int, int, int): La tupla en valores HSV\n",
    "    \"\"\"\n",
    "    to_convert = np.array([[rgb]], dtype=np.uint8)\n",
    "    return cv2.cvtColor(to_convert, cv2.COLOR_RGB2HSV)[0][0]\n",
    "\n",
    "\n",
    "def rgbs_to_hsv(rgbs):\n",
    "    \"\"\"Dada una lista de valores RGB, los convierte a HSV\n",
    "\n",
    "    Args:\n",
    "        rgbs (list of (int, int, int)): Lista de valores RGB\n",
    "    Returns:\n",
    "        hsv (list of (int, int, int)): Lista de valores HSV\n",
    "    \"\"\"\n",
    "    to_convert = np.array([rgbs], dtype=np.uint8)\n",
    "    return cv2.cvtColor(to_convert, cv2.COLOR_RGB2HSV)[0]\n",
    "\n",
    "\n",
    "def group_hues(colors, n):\n",
    "    \"\"\"Dada una paleta de colores y un número n, agrupa los colores en\n",
    "    n grupos según su tonalidad\n",
    "\n",
    "    Args:\n",
    "        colors (list of (int, int, int)): Los colores a agrupar\n",
    "        n (int): El número de grupos a separar\n",
    "    Returns:\n",
    "        index_groups (list of lists of int): Los grupos, con cada color\n",
    "            representado por su índice en la paleta\n",
    "        color_groups (list of lists of (int, int, int)): Los grupos, con\n",
    "        cada color representado por su valor RGB\n",
    "        group_hues (list of int): Tonalidades medias de cada grupo\n",
    "    \"\"\"\n",
    "\n",
    "    hues = [rgb_to_hsv(c)[0] for c in colors]\n",
    "    hues = np.float32(hues)\n",
    "\n",
    "    criteria = (cv2.TERM_CRITERIA_EPS + cv2.TERM_CRITERIA_MAX_ITER, 10, 1.0)\n",
    "    _, labels, centers = cv2.kmeans(\n",
    "        hues, n, None, criteria, 10, cv2.KMEANS_RANDOM_CENTERS)\n",
    "    group_hues = centers\n",
    "    labels = labels.flatten()\n",
    "\n",
    "    groups = [hues[labels == i] for i in range(n)]\n",
    "    index_groups = [np.arange(len(colors))[labels == i].tolist()\n",
    "                    for i in range(n)]\n",
    "    color_groups = [np.array(colors)[labels == i].tolist() for i in range(n)]\n",
    "    color_groups = [[tuple(c) for c in g] for g in color_groups]\n",
    "\n",
    "    hue_mappings = {h: i for i, g in enumerate(groups) for h in g}\n",
    "    color_mappings = {tuple(colors[i]): hue_mappings[hues[i]]\n",
    "                      for i in range(len(colors))}\n",
    "    return index_groups, color_groups\n",
    "\n",
    "\n",
    "def group_hues_threshold(colors, hue_threshold, color_scheme):\n",
    "    \"\"\"Dado un diccionario con cantidades de colores, una tolerancia de\n",
    "    tonalidad y un esquema de colores, agrupa los colores según la tonalidad y\n",
    "    su tolerancia, usando de referencia el esquema de colores.\n",
    "\n",
    "    Una mayor tolerancia facilita que tonalidades más distintas se coloquen\n",
    "    en un solo grupo.\n",
    "\n",
    "    Args:\n",
    "        colors (dict of (int, int, int):int): Las cantidades de colores en imagen\n",
    "        hue_threshold: Tolerancia de agrupamiento de tonalidades\n",
    "        color_scheme: El esquema de colores a usar de referencia\n",
    "\n",
    "    Returns:\n",
    "        groups (list of lists of (int, int)): Los grupos de tonalidades,\n",
    "            representados por sus índices en el esquema de colores\n",
    "        avg_hues (list of int): Tonalidades medias de cada grupo\n",
    "        groups_quantities (list of int): Las cantidades de píxeles en la imagen\n",
    "            por cada grupo\n",
    "    \"\"\"\n",
    "    groups = []\n",
    "    avg_hues = []\n",
    "    groups_quantities = []\n",
    "    palette = list(colors.keys())\n",
    "    quantities = [colors[c] for c in palette]\n",
    "\n",
    "    hues = find_closest_color(palette, color_scheme)\n",
    "    hues = [t[0] for t in hues]\n",
    "\n",
    "    available = list(range(len(palette)))\n",
    "    while available:\n",
    "        most_frequent = max(available, key=lambda i: colors[palette[i]])\n",
    "\n",
    "        distances = [list_distance(\n",
    "            len(color_scheme), hues[i], hues[most_frequent]) for i in available]\n",
    "\n",
    "        group = list(\n",
    "            filter(lambda i: distances[i] <= hue_threshold, range(len(available))))\n",
    "        group = [available[i] for i in group]\n",
    "        groups.append(group)\n",
    "\n",
    "        group_quantity = sum([colors[palette[i]] for i in group])\n",
    "        groups_quantities.append(group_quantity)\n",
    "\n",
    "        avg_hue = round(sum([hues[i] for i in group])/len(group))\n",
    "        avg_hues.append(avg_hue)\n",
    "\n",
    "        available = list(filter(lambda i: i not in group, available))\n",
    "    return groups, avg_hues, groups_quantities\n",
    "\n",
    "\n",
    "def find_closest_color(color, color_scheme: dict):\n",
    "    \"\"\"\n",
    "    Dada una tupla de un valor RGB y un esquema de colores, devuelve el índice\n",
    "    del color más cercano en el esquema de colores al color especificado\n",
    "\n",
    "    Args:\n",
    "        color (int, int, int): El color a buscar\n",
    "        color_scheme (dict of int:list of (int, int, int)): El esquema de \n",
    "            colores de referencia\n",
    "    Returns:\n",
    "        min_indices (int, int): Índices correspondientes al color más\n",
    "            parecido en el esquema de colores\n",
    "    \"\"\"\n",
    "    matrix = [color_scheme[key] for key in sorted(color_scheme)]\n",
    "    min_indices = [matrix_min_indexes(\n",
    "        color_distance(c, matrix)) for c in color]\n",
    "    return min_indices\n",
    "\n",
    "\n",
    "def convert_im_to_scheme(quantized_image, color_scheme):\n",
    "    \"\"\"Dada una imagen y un esquema de colores, devuelve la imagen corregida\n",
    "    para ajustarse lo más posible a la paleta de colores.\n",
    "\n",
    "    Args:\n",
    "        quantized_image: La imagen a adaptar\n",
    "        color_scheme: El esquema de colores a usar\n",
    "\n",
    "    Returns:\n",
    "        new_im: La imagen adaptada al esquema de colores\n",
    "    \"\"\"\n",
    "    colors = get_colors(quantized_image)\n",
    "    color_palette = list(colors.keys())\n",
    "    indexes = find_closest_color(color_palette, ittens_colors)\n",
    "    new_im = quantized_image.copy()\n",
    "\n",
    "    for i, og in enumerate(color_palette):\n",
    "        mask = cv2.inRange(quantized_image, np.array(og), np.array(og))\n",
    "        ind = indexes[i]\n",
    "        new_im[mask > 0] = color_scheme[ind[0]][ind[1]]\n",
    "    return new_im\n",
    "\n",
    "\n",
    "def convert_im_palette(quantized_image, color_palette):\n",
    "    \"\"\"Dada una imagen y una paleta con tantos colores como tenga la imagen,\n",
    "    devuelve una imagen convertida a la paleta de colores especificada.\n",
    "\n",
    "    Args:\n",
    "        quantized_image: La imagen a transformar\n",
    "        color_palette (list of (int, int, int)): La paleta de colores a usar\n",
    "    Returns:\n",
    "        new_im: La imagen con la nueva paleta de colores\n",
    "    \"\"\"\n",
    "    colors = get_colors(quantized_image)\n",
    "    og_palette = list(colors.keys())\n",
    "    new_im = quantized_image.copy()\n",
    "    for i, og in enumerate(og_palette):\n",
    "        mask = cv2.inRange(quantized_image, np.array(og), np.array(og))\n",
    "        new_im[mask > 0] = color_palette[i]\n",
    "    return new_im\n",
    "\n",
    "\n",
    "def complementary_palette(q_im, hue_tolerance, color_scheme):\n",
    "    \"\"\"Dada una imagen, una tolerancia de tonalidad y un esquema de colores,\n",
    "    transforma la imagen convirtiendo los colores no dominantes al complementario\n",
    "    del color dominante\n",
    "\n",
    "    Args:\n",
    "        q_im: Imagen a transformar\n",
    "        hue_tolerance (int): Tolerancia de tonalidad al detectar tonalidad principal\n",
    "        color_scheme: El esquema de colores a usar\n",
    "    Returns: \n",
    "        image: Imagen transformada\n",
    "    \"\"\"\n",
    "    colors = get_colors(q_im)\n",
    "    palette = list(colors.keys())\n",
    "    # Could find a way to remove this extra call to find_closest_color,\n",
    "    # given that group_hues_threshold also calls it\n",
    "    correct_palette = find_closest_color(palette, color_scheme)\n",
    "\n",
    "    hue_groups, avg_hues, hue_quantities = group_hues_threshold(\n",
    "        colors, hue_tolerance, color_scheme)\n",
    "\n",
    "    max_hue_i = max(range(len(hue_groups)), key=lambda i: hue_quantities[i])\n",
    "    max_hue = avg_hues[max_hue_i]\n",
    "\n",
    "    complementary_hue = angle_to_index(180, len(color_scheme)) + max_hue\n",
    "    complementary_hue = complementary_hue % len(color_scheme)\n",
    "\n",
    "    to_modify_i = list(filter(\n",
    "        lambda i: i not in hue_groups[max_hue_i],\n",
    "        range(len(palette))\n",
    "    ))\n",
    "\n",
    "    new_palette = np.array(correct_palette[:])\n",
    "    new_palette[to_modify_i, 0] = complementary_hue\n",
    "    new_palette = [color_scheme[i][j] for i, j in new_palette]\n",
    "    return convert_im_palette(q_im, new_palette)\n",
    "\n",
    "\n",
    "def monochromatic_palette(q_im, hue_tolerance, color_scheme):\n",
    "    \"\"\"Dada una imagen, una tolerancia de tonalidad y un esquema de colores,\n",
    "    convierte la imagen entera a la tonalidad dominante.\n",
    "\n",
    "    Args:\n",
    "        q_im: Imagen a transformar\n",
    "        hue_tolerance (int): Tolerancia de tonalidad al detectar tonalidad principal\n",
    "        color_scheme: El esquema de colores a usar\n",
    "    Returns: \n",
    "        image: Imagen transformada\n",
    "    \"\"\"\n",
    "    colors = get_colors(q_im)\n",
    "    palette = list(colors.keys())\n",
    "\n",
    "    correct_palette = find_closest_color(palette, color_scheme)\n",
    "\n",
    "    hue_groups, avg_hues, hue_quantities = group_hues_threshold(\n",
    "        colors, hue_tolerance, color_scheme)\n",
    "\n",
    "    max_hue_i = max(range(len(hue_groups)), key=lambda i: hue_quantities[i])\n",
    "    max_hue = avg_hues[max_hue_i]\n",
    "\n",
    "    new_palette = np.array(correct_palette[:])\n",
    "    new_palette[:, 0] = max_hue\n",
    "    new_palette = [color_scheme[i][j] for i, j in new_palette]\n",
    "    return convert_im_palette(q_im, new_palette)\n",
    "\n",
    "\n",
    "def split_complementary(q_im, hue_tolerance, hue_distance, color_scheme):\n",
    "    \"\"\"Dada una imagen, una tolerancia de tonalidad, una distancia de tonalidad\n",
    "    y un esquema de colores, transforma la imagen convirtiendo los colores\n",
    "    no dominantes a 2 colores a la distancia especificada del complementario\n",
    "    del color dominante\n",
    "\n",
    "    Args:\n",
    "        q_im: Imagen a transformar\n",
    "        hue_tolerance (int): Tolerancia de tonalidad al detectar tonalidad principal\n",
    "        hue_distance (int): La distancia al color complementario a usar para los\n",
    "            nuevos colores\n",
    "        color_scheme: El esquema de colores a usar\n",
    "    Returns: \n",
    "        image: Imagen transformada\n",
    "    \"\"\"\n",
    "    colors = get_colors(q_im)\n",
    "    palette = list(colors.keys())\n",
    "\n",
    "    correct_palette = find_closest_color(palette, color_scheme)\n",
    "\n",
    "    hue_groups, avg_hues, hue_quantities = group_hues_threshold(\n",
    "        colors, hue_tolerance, color_scheme)\n",
    "\n",
    "    max_hue_i = max(range(len(hue_groups)), key=lambda i: hue_quantities[i])\n",
    "    max_hue = avg_hues[max_hue_i]\n",
    "\n",
    "    remaining = [g for i, g in enumerate(hue_groups) if i != max_hue_i]\n",
    "\n",
    "    complementary_hue = angle_to_index(180, len(color_scheme)) + max_hue\n",
    "    complementary_hue = complementary_hue % len(color_scheme)\n",
    "\n",
    "    first_split = complementary_hue + hue_distance\n",
    "    first_split = first_split % len(\n",
    "        color_scheme) + 1 if first_split > len(color_scheme) else first_split\n",
    "\n",
    "    second_split = complementary_hue - hue_distance\n",
    "    second_split = second_split + \\\n",
    "        len(color_scheme) if second_split < 1 else second_split\n",
    "\n",
    "    new_palette = np.array(correct_palette[:])\n",
    "\n",
    "    to_modify_i = list(filter(\n",
    "        lambda i: i not in hue_groups[max_hue_i],\n",
    "        range(len(palette))\n",
    "    ))\n",
    "\n",
    "    for index in range(len(to_modify_i)):\n",
    "        color_to_modify = to_modify_i[index]\n",
    "        new_palette[color_to_modify][0] = first_split if index % 2 == 0 else second_split\n",
    "\n",
    "    new_palette = [color_scheme[i][j] for i, j in new_palette]\n",
    "\n",
    "    return convert_im_palette(q_im, new_palette)"
   ]
  },
  {
   "cell_type": "markdown",
   "id": "f3cbf6b5-7e2e-4a75-ae46-b68987e82624",
   "metadata": {},
   "source": [
    "# Aplicación a un diseño de personaje"
   ]
  },
  {
   "cell_type": "markdown",
   "id": "fe22593e-2bb8-42cc-bb89-507f1d583258",
   "metadata": {},
   "source": [
    "## Diseño original"
   ]
  },
  {
   "cell_type": "code",
   "execution_count": 24,
   "id": "50d147f5-3ac4-4c0f-916c-b1a0a58759ac",
   "metadata": {},
   "outputs": [
    {
     "data": {
      "image/png": "[encoded data removed]",
      "text/plain": [
       "<Figure size 640x480 with 1 Axes>"
      ]
     },
     "metadata": {},
     "output_type": "display_data"
    }
   ],
   "source": [
    "rgba = load_image(\"images/Ho-Oh.png\")\n",
    "image,alpha = split_alpha(rgba)\n",
    "display_image(rgba,\"Imagen original\")"
   ]
  },
  {
   "cell_type": "code",
   "execution_count": 25,
   "id": "ada19ef2-fd18-4c6c-9e28-b823a2f4198e",
   "metadata": {},
   "outputs": [
    {
     "data": {
      "image/png": "[encoded data removed]",
      "text/plain": [
       "<Figure size 640x480 with 1 Axes>"
      ]
     },
     "metadata": {},
     "output_type": "display_data"
    }
   ],
   "source": [
    "q_im = quantize_image(image,6)\n",
    "display_image(merge_alpha(q_im,alpha),\"Imagen cuantizada con 6 colores\")"
   ]
  },
  {
   "cell_type": "code",
   "execution_count": 26,
   "id": "1f4ab278-a8ea-4f6f-9730-ad958ce67e72",
   "metadata": {},
   "outputs": [
    {
     "data": {
      "image/png": "[encoded data removed]",
      "text/plain": [
       "<Figure size 640x480 with 1 Axes>"
      ]
     },
     "metadata": {},
     "output_type": "display_data"
    }
   ],
   "source": [
    "colors = get_colors(q_im)\n",
    "color_palette = list(colors.keys())\n",
    "indexes = find_closest_color(color_palette,ittens_colors)\n",
    "new_colors = [ittens_colors[i][j] for i,j in indexes]\n",
    "\n",
    "corrected = convert_im_palette(q_im,new_colors)\n",
    "rgba_corrected = merge_alpha(corrected,alpha)\n",
    "display_image(rgba_corrected,\"Imagen Corregida a Ittens\")"
   ]
  },
  {
   "cell_type": "markdown",
   "id": "c7574d4d-9579-485f-99d7-361d65b0453c",
   "metadata": {},
   "source": [
    "## Retoque de paleta de colores"
   ]
  },
  {
   "cell_type": "code",
   "execution_count": 27,
   "id": "eb8f9e63-6a65-42c1-9aa2-8729c6d88074",
   "metadata": {},
   "outputs": [
    {
     "data": {
      "image/png": "[encoded data removed]",
      "text/plain": [
       "<Figure size 640x480 with 1 Axes>"
      ]
     },
     "metadata": {},
     "output_type": "display_data"
    },
    {
     "data": {
      "image/png": "[encoded data removed]",
      "text/plain": [
       "<Figure size 640x480 with 1 Axes>"
      ]
     },
     "metadata": {},
     "output_type": "display_data"
    }
   ],
   "source": [
    "show_color_palette(color_palette)\n",
    "show_color_palette(new_colors)"
   ]
  },
  {
   "cell_type": "code",
   "execution_count": 28,
   "id": "54d85bdb",
   "metadata": {},
   "outputs": [],
   "source": [
    "blacklist = set()\n",
    "blacklist.add(color_palette[0])"
   ]
  },
  {
   "cell_type": "code",
   "execution_count": 29,
   "id": "691503a1",
   "metadata": {},
   "outputs": [],
   "source": [
    "\n",
    "paleta = {k: v for k, v in zip(color_palette, new_colors)}"
   ]
  },
  {
   "cell_type": "code",
   "execution_count": 30,
   "id": "1c65254b",
   "metadata": {},
   "outputs": [
    {
     "data": {
      "image/png": "[encoded data removed]",
      "text/plain": [
       "<Figure size 640x480 with 1 Axes>"
      ]
     },
     "metadata": {},
     "output_type": "display_data"
    }
   ],
   "source": [
    "display_image(merge_alpha(change_colors(q_im, paleta),alpha), \"metodo nuevo\")"
   ]
  },
  {
   "cell_type": "code",
   "execution_count": 31,
   "id": "0f83c2d0-d8f6-4b27-9096-99326793ea59",
   "metadata": {},
   "outputs": [
    {
     "data": {
      "application/vnd.jupyter.widget-view+json": {
       "model_id": "0cbcd6989ebc46ca87b46395a66e5d38",
       "version_major": 2,
       "version_minor": 0
      },
      "text/plain": [
       "interactive(children=(IntSlider(value=5, description='hue_tolerance', max=11), Output(layout=Layout(height='35…"
      ]
     },
     "execution_count": 31,
     "metadata": {},
     "output_type": "execute_result"
    }
   ],
   "source": [
    "no_flicker_inter(lambda hue_tolerance: \n",
    "                 display_image(\n",
    "                     merge_alpha(complementary_palette(q_im,hue_tolerance,ittens_colors),alpha),\n",
    "                     \"Complementario\"\n",
    "                 ),hue_tolerance=(0,11))"
   ]
  },
  {
   "cell_type": "code",
   "execution_count": 32,
   "id": "bfd75dd0-d79a-4b9a-b6e6-aafaaaed4fa5",
   "metadata": {},
   "outputs": [
    {
     "data": {
      "application/vnd.jupyter.widget-view+json": {
       "model_id": "4cbe4f23ba2b4ed1827c1ffafc96d466",
       "version_major": 2,
       "version_minor": 0
      },
      "text/plain": [
       "interactive(children=(IntSlider(value=5, description='hue_tolerance', max=11), Output(layout=Layout(height='35…"
      ]
     },
     "execution_count": 32,
     "metadata": {},
     "output_type": "execute_result"
    }
   ],
   "source": [
    "no_flicker_inter(lambda hue_tolerance:\n",
    "                 display_image(\n",
    "                     merge_alpha(monochromatic_palette(\n",
    "                         q_im, hue_tolerance, ittens_colors), alpha),\n",
    "                     \"Monochromatic\"\n",
    "                 ), hue_tolerance=(0, 11))"
   ]
  },
  {
   "cell_type": "code",
   "execution_count": 33,
   "id": "b943b169-2524-41af-a6ca-23528c9eb045",
   "metadata": {},
   "outputs": [
    {
     "data": {
      "application/vnd.jupyter.widget-view+json": {
       "model_id": "f5214cf259814ef0828b9b33ebf14b15",
       "version_major": 2,
       "version_minor": 0
      },
      "text/plain": [
       "interactive(children=(IntSlider(value=5, description='hue_tolerance', max=11), IntSlider(value=5, description=…"
      ]
     },
     "execution_count": 33,
     "metadata": {},
     "output_type": "execute_result"
    }
   ],
   "source": [
    "no_flicker_inter(lambda hue_tolerance,hue_distance: \n",
    "                 display_image(\n",
    "                     merge_alpha(split_complementary(q_im,hue_tolerance,hue_distance,ittens_colors),alpha),\n",
    "                     \"Complementario dividido\"\n",
    "                 ),hue_tolerance=(0,11),hue_distance=(0,11))\n"
   ]
  },
  {
   "cell_type": "code",
   "execution_count": 34,
   "id": "b10783a3-cecb-42dd-9cf0-083acfd54972",
   "metadata": {},
   "outputs": [
    {
     "data": {
      "image/png": "[encoded data removed]",
      "text/plain": [
       "<Figure size 640x480 with 1 Axes>"
      ]
     },
     "metadata": {},
     "output_type": "display_data"
    },
    {
     "data": {
      "image/png": "[encoded data removed]",
      "text/plain": [
       "<Figure size 640x480 with 1 Axes>"
      ]
     },
     "metadata": {},
     "output_type": "display_data"
    }
   ],
   "source": [
    "spl_im = split_complementary(q_im,2,2,ittens_colors)\n",
    "pal = list(get_colors(spl_im).keys())\n",
    "show_color_palette(color_palette)\n",
    "show_color_palette(pal)"
   ]
  },
  {
   "cell_type": "markdown",
   "id": "a68ad168",
   "metadata": {},
   "source": [
    "<a id=\"Ostwald-colors\"></a>\n",
    "\n",
    "<h1>Modelo Ostwald</h1>\n",
    "\n",
    "<div style=\"text-align: justify;\">\n",
    "En 1772, J. H. Lambert, un físico inglés, comenzó con un triángulo que tenía rojo, amarillo y azul en sus ángulos. Observó (correctamente) que las mezclas de pigmentos eran sustractivas. Por lo tanto, el triángulo base tenía el negro como centro. Sobre este triángulo, Lambert dispuso triángulos progresivamente más pequeños que escalaban hacia un vértice blanco. Aquí nuevamente observó sabiamente que los colores se hacían menos distinguibles y, por tanto, menos numerosos a medida que se acercaba el blanco.\n",
    "\n",
    "En la esfera de Philip Otto Runge, los colores puros corrían alrededor de un ecuador y tenían gradaciones de rojo, amarillo y azul primarios. Estos colores puros luego aumentaron hacia un ápice blanco, hacia el negro y hacia el gris.\n",
    "</div>"
   ]
  },
  {
   "cell_type": "markdown",
   "id": "deb2821a",
   "metadata": {},
   "source": [
    "![Texto alternativo](images/doc/esfera%20del%20color%20de%20Runge.png)"
   ]
  },
  {
   "cell_type": "markdown",
   "id": "4d2b4515",
   "metadata": {},
   "source": [
    "![Texto alternativo](images/doc/cono%20Wilhelm.png)"
   ]
  },
  {
   "cell_type": "markdown",
   "id": "5f49fc4d",
   "metadata": {},
   "source": [
    "División. Los colores se dividen en dos clases:\n",
    "1. Los colores acromáticos blanco, gris, negro y todo lo que hay entre ellos;\n",
    "2. Los colores cromáticos amarillo, rojo, azul, verde y todos los que se encuentran entre ellos y contiguos.\n",
    "\n",
    "<div style=\"text-align: justify;\">\n",
    "Colores acromáticos: El orden. Los colores acromáticos forman una serie constante simple (unidimensional) con puntos finales en blanco y negro. Entre ellos se pueden disponer todos los colores grises de tal manera que cada uno de ellos tenga un lugar definido y determinado entre sus vecinos. Un vecino es más claro y el otro más oscuro que el gris indicado.\n",
    "</divs>\n"
   ]
  },
  {
   "cell_type": "markdown",
   "id": "c4018e83",
   "metadata": {},
   "source": [
    "![Texto alternativo](images/doc/escala%20de%20grises.png)"
   ]
  },
  {
   "cell_type": "markdown",
   "id": "bf97a975",
   "metadata": {},
   "source": [
    "<div style=\"text-align: justify;\">\n",
    "Aunque se puede asumir que al ser una escala, puede haber un número infinito de grises, hay un margen de diferencia que al ojo humano resulta igual.\n",
    "La cantidad de blanco determina el BRILLO del color, dado que a mayor blanco, más luz refleja la superficie al ser iluminada. Esto pasa con la luz blanca, pero si la superficie refleja diferentes longitudes de onda de diferente manera, el color pasa a ser cromático.\n",
    "Se considera que la mejor aproximación al blanco perfecto es una capa opaca de sulfato de bario puro. Ponemos su luminosidad en 100.\n",
    "Diferentes superficies de blanco/gris se comparan en función del porcentaje de luz que reflejan con respecto al sulfato de bario, dando así una escala de 0 a 100 en el eje de BRILLO.\n",
    "</div>\n"
   ]
  },
  {
   "cell_type": "markdown",
   "id": "6dad7e06",
   "metadata": {},
   "source": [
    "![Texto alternativo](images/doc/escala%20de%20grises%202.png)"
   ]
  },
  {
   "cell_type": "markdown",
   "id": "c3be0c70",
   "metadata": {},
   "source": [
    "<div style=\"text-align: justify;\">\n",
    "Por lo tanto, es necesario para todos los fines artísticos y comerciales ordenar la escala de grises no según los valores numéricos del contenido de blanco, sino según los mismos pasos de sensación que se han hecho aquí. Si uno los ordenara según pasos iguales (aritméticos) de contenido de blanco, obtendría demasiados pasos en el extremo blanco y muy pocos en el extremo negro.\n",
    "</div>\n"
   ]
  },
  {
   "cell_type": "markdown",
   "id": "794fe8e0",
   "metadata": {},
   "source": [
    "**_Colores cromáticos_**\n",
    "\n",
    "<div style=\"text-align: justify;\">\n",
    "Continuidad y Umbral. Al igual que la serie de grises, la serie de tonos es continua. Entre dos tonos diferentes siempre es posible insertar un tercero que será más parecido a los dos que entre sí, y este proceso puede continuar hasta que no se noten diferencias. Entonces los tonos son iguales.\n",
    "Por lo tanto, para cada tono en el círculo de tonos existe otro que es más diferente de él. Esta relación es mutua. Todo el círculo de tonos está lleno de pares de colores contrastantes que se denominan colores complementarios.\n",
    "Los colores complementarios son colores que en una mezcla óptica producirán un gris neutro.\n",
    "</div>\n"
   ]
  },
  {
   "cell_type": "markdown",
   "id": "5d40c44b",
   "metadata": {},
   "source": [
    "![Texto alternativo](images/doc/circulo%20de%20color.png)\n",
    "\n",
    "_Relaciones entre color, blanco y negro_\n",
    "\n",
    "![Texto alternativo](images/doc/relacion%20valores%20ostwald.png)\n",
    "\n",
    "<div style=\"text-align: justify;\">\n",
    "La ecuación del color. En general, todos los colores constan de una parte de C a todo color, una parte de W blanco y una parte de B negro. Si estas partes se expresan en porcentajes, obtenemos para cada color la ecuación:\n",
    "C+W+B=100\n",
    "</div>\n"
   ]
  },
  {
   "cell_type": "markdown",
   "id": "559bdf3f",
   "metadata": {},
   "source": [
    "![Texto alternativo](images/doc/triangulo%20de%20color.png)"
   ]
  },
  {
   "cell_type": "markdown",
   "id": "ab5e79c3",
   "metadata": {},
   "source": [
    "![Texto alternativo](images/doc/solido%20de%20ostwald.png)"
   ]
  },
  {
   "cell_type": "code",
   "execution_count": 35,
   "id": "e12004d5",
   "metadata": {},
   "outputs": [],
   "source": [
    "def build_ostwald_colors(rgb=True):\n",
    "    oswall_hsv = [[27, 255, 230],\n",
    "                  [16, 232, 240],\n",
    "                  [2, 230, round(255*.87)],\n",
    "                  [0, 227, 194],\n",
    "                  [173, 212, 148],\n",
    "                  [158, 148, 89],\n",
    "                  [120.5, 135, 125],\n",
    "                  [101.0, 224, 166],\n",
    "                  [88.0, 247, 115],\n",
    "                  [81.0, 237, 117],\n",
    "                  [80.0, 230,  round(255*.51)],\n",
    "                  [60.0,  round(255*.62), 143]]\n",
    "    oswall_dict = {1: [], 2: [], 3: [], 4: [], 5: [],\n",
    "                   6: [], 7: [], 8: [], 9: [], 10: [], 11: [], 12: []}\n",
    "    dict_rgb = {1: [], 2: [], 3: [], 4: [], 5: [],\n",
    "                6: [], 7: [], 8: [], 9: [], 10: [], 11: [], 12: []}\n",
    "    i = 1\n",
    "    while i < len(oswall_hsv)+1:\n",
    "        j = 0\n",
    "        while j < 12:\n",
    "            if j < 5:\n",
    "                color = [oswall_hsv[i-1][0],\n",
    "                         round(j*oswall_hsv[i-1][1]/6), oswall_hsv[i-1][2]]\n",
    "            elif j == 5:\n",
    "                color = oswall_hsv[i-1]\n",
    "            else:\n",
    "                v = oswall_hsv[i-1][2]\n",
    "                last_v = oswall_dict.get(i)[j-1][2]\n",
    "                color = [oswall_hsv[i-1][0], oswall_hsv[i-1]\n",
    "                         [1], 1 + last_v - round(v/6)]\n",
    "            oswall_dict.get(i).append(color)\n",
    "            dict_rgb.get(i).append(cv2.cvtColor(\n",
    "                np.array([[color]], dtype=np.uint8), cv2.COLOR_HSV2RGB)[0][0])\n",
    "            j += 1\n",
    "        i += 1\n",
    "    if rgb:\n",
    "        return dict_rgb\n",
    "    else:\n",
    "        return oswall_dict"
   ]
  },
  {
   "cell_type": "code",
   "execution_count": 36,
   "id": "3d4a7745",
   "metadata": {},
   "outputs": [
    {
     "data": {
      "image/png": "[encoded data removed]",
      "text/plain": [
       "<Figure size 1000x200 with 1 Axes>"
      ]
     },
     "metadata": {},
     "output_type": "display_data"
    },
    {
     "data": {
      "image/png": "[encoded data removed]",
      "text/plain": [
       "<Figure size 1000x200 with 1 Axes>"
      ]
     },
     "metadata": {},
     "output_type": "display_data"
    },
    {
     "data": {
      "image/png": "[encoded data removed]",
      "text/plain": [
       "<Figure size 1000x200 with 1 Axes>"
      ]
     },
     "metadata": {},
     "output_type": "display_data"
    },
    {
     "data": {
      "image/png": "[encoded data removed]",
      "text/plain": [
       "<Figure size 1000x200 with 1 Axes>"
      ]
     },
     "metadata": {},
     "output_type": "display_data"
    },
    {
     "data": {
      "image/png": "[encoded data removed]",
      "text/plain": [
       "<Figure size 1000x200 with 1 Axes>"
      ]
     },
     "metadata": {},
     "output_type": "display_data"
    },
    {
     "data": {
      "image/png": "[encoded data removed]",
      "text/plain": [
       "<Figure size 1000x200 with 1 Axes>"
      ]
     },
     "metadata": {},
     "output_type": "display_data"
    },
    {
     "data": {
      "image/png": "[encoded data removed]",
      "text/plain": [
       "<Figure size 1000x200 with 1 Axes>"
      ]
     },
     "metadata": {},
     "output_type": "display_data"
    },
    {
     "data": {
      "image/png": "[encoded data removed]",
      "text/plain": [
       "<Figure size 1000x200 with 1 Axes>"
      ]
     },
     "metadata": {},
     "output_type": "display_data"
    },
    {
     "data": {
      "image/png": "[encoded data removed]",
      "text/plain": [
       "<Figure size 1000x200 with 1 Axes>"
      ]
     },
     "metadata": {},
     "output_type": "display_data"
    },
    {
     "data": {
      "image/png": "[encoded data removed]",
      "text/plain": [
       "<Figure size 1000x200 with 1 Axes>"
      ]
     },
     "metadata": {},
     "output_type": "display_data"
    },
    {
     "data": {
      "image/png": "[encoded data removed]",
      "text/plain": [
       "<Figure size 1000x200 with 1 Axes>"
      ]
     },
     "metadata": {},
     "output_type": "display_data"
    },
    {
     "data": {
      "image/png": "[encoded data removed]",
      "text/plain": [
       "<Figure size 1000x200 with 1 Axes>"
      ]
     },
     "metadata": {},
     "output_type": "display_data"
    }
   ],
   "source": [
    "ostwald_wheel = build_ostwald_colors()\n",
    "show_color_scheme(ostwald_wheel)"
   ]
  },
  {
   "cell_type": "code",
   "execution_count": 37,
   "id": "f0cf206c",
   "metadata": {},
   "outputs": [
    {
     "data": {
      "image/png": "[encoded data removed]",
      "text/plain": [
       "<Figure size 640x480 with 1 Axes>"
      ]
     },
     "metadata": {},
     "output_type": "display_data"
    }
   ],
   "source": [
    "rgba = load_image(\"images/Ho-Oh.png\")\n",
    "image,alpha = split_alpha(rgba)\n",
    "display_image(rgba,\"Imagen original\")"
   ]
  },
  {
   "cell_type": "code",
   "execution_count": 38,
   "id": "acad196c",
   "metadata": {},
   "outputs": [
    {
     "data": {
      "image/png": "[encoded data removed]",
      "text/plain": [
       "<Figure size 640x480 with 1 Axes>"
      ]
     },
     "metadata": {},
     "output_type": "display_data"
    }
   ],
   "source": [
    "q_im = quantize_image(image,6)\n",
    "display_image(merge_alpha(q_im,alpha),\"Imagen cuantizada con 6 colores\")"
   ]
  },
  {
   "cell_type": "code",
   "execution_count": 39,
   "id": "c470d5d9",
   "metadata": {},
   "outputs": [
    {
     "data": {
      "image/png": "[encoded data removed]",
      "text/plain": [
       "<Figure size 1000x300 with 2 Axes>"
      ]
     },
     "metadata": {},
     "output_type": "display_data"
    }
   ],
   "source": [
    "colors = get_colors(q_im)\n",
    "color_palette = list(colors.keys())\n",
    "indexes = find_closest_color(color_palette, ostwald_wheel)\n",
    "new_colors = [ostwald_wheel[i][j] for i, j in indexes]\n",
    "\n",
    "corrected = convert_im_palette(q_im, new_colors)\n",
    "rgba_corrected = merge_alpha(corrected, alpha)\n",
    "\n",
    "plt.figure(figsize=(10, 3))\n",
    "plt.subplot(131)\n",
    "display_image(rgba_corrected, \"Imagen Corregida a Ostwald\")\n",
    "\n",
    "colors = get_colors(q_im)\n",
    "color_palette = list(colors.keys())\n",
    "indexes = find_closest_color(color_palette, ittens_colors)\n",
    "new_colors = [ittens_colors[i][j] for i, j in indexes]\n",
    "\n",
    "corrected = convert_im_palette(q_im, new_colors)\n",
    "rgba_corrected = merge_alpha(corrected, alpha)\n",
    "plt.subplot(132)\n",
    "display_image(rgba_corrected, \"Imagen Corregida a Ittens\")"
   ]
  },
  {
   "cell_type": "code",
   "execution_count": 40,
   "id": "b96dd9ee",
   "metadata": {},
   "outputs": [
    {
     "data": {
      "image/png": "[encoded data removed]",
      "text/plain": [
       "<Figure size 640x480 with 1 Axes>"
      ]
     },
     "metadata": {},
     "output_type": "display_data"
    },
    {
     "data": {
      "image/png": "[encoded data removed]",
      "text/plain": [
       "<Figure size 640x480 with 1 Axes>"
      ]
     },
     "metadata": {},
     "output_type": "display_data"
    }
   ],
   "source": [
    "show_color_palette(color_palette)\n",
    "show_color_palette(new_colors)"
   ]
  },
  {
   "cell_type": "code",
   "execution_count": 41,
   "id": "dd14d20d",
   "metadata": {},
   "outputs": [],
   "source": [
    "blacklist = set()\n",
    "blacklist.add(color_palette[0])"
   ]
  },
  {
   "cell_type": "code",
   "execution_count": 42,
   "id": "fdd10ce9",
   "metadata": {},
   "outputs": [],
   "source": [
    "paleta = {k: v for k, v in zip(color_palette, new_colors)}"
   ]
  },
  {
   "cell_type": "code",
   "execution_count": 43,
   "id": "b8fcbe1f",
   "metadata": {},
   "outputs": [
    {
     "data": {
      "image/png": "[encoded data removed]",
      "text/plain": [
       "<Figure size 640x480 with 1 Axes>"
      ]
     },
     "metadata": {},
     "output_type": "display_data"
    }
   ],
   "source": [
    "display_image(merge_alpha(change_colors(q_im, paleta),alpha), \"metodo nuevo\")"
   ]
  },
  {
   "cell_type": "code",
   "execution_count": 44,
   "id": "04ac0200",
   "metadata": {},
   "outputs": [
    {
     "data": {
      "application/vnd.jupyter.widget-view+json": {
       "model_id": "da6caffd2c6c41189e0d2116ac75d994",
       "version_major": 2,
       "version_minor": 0
      },
      "text/plain": [
       "interactive(children=(IntSlider(value=5, description='hue_tolerance', max=11), Output(layout=Layout(height='35…"
      ]
     },
     "execution_count": 44,
     "metadata": {},
     "output_type": "execute_result"
    }
   ],
   "source": [
    "no_flicker_inter(lambda hue_tolerance: \n",
    "                 display_image(\n",
    "                     merge_alpha(complementary_palette(q_im,hue_tolerance,ittens_colors),alpha),\n",
    "                     \"Complementario\"\n",
    "                 ),hue_tolerance=(0,11))"
   ]
  },
  {
   "cell_type": "code",
   "execution_count": 45,
   "id": "e4033418",
   "metadata": {},
   "outputs": [
    {
     "data": {
      "application/vnd.jupyter.widget-view+json": {
       "model_id": "df9c90d28b7f4fe0a5b854edeba06a6d",
       "version_major": 2,
       "version_minor": 0
      },
      "text/plain": [
       "interactive(children=(IntSlider(value=5, description='hue_tolerance', max=11), Output(layout=Layout(height='35…"
      ]
     },
     "execution_count": 45,
     "metadata": {},
     "output_type": "execute_result"
    }
   ],
   "source": [
    "no_flicker_inter(lambda hue_tolerance:\n",
    "                 display_image(\n",
    "                     merge_alpha(monochromatic_palette(\n",
    "                         q_im, hue_tolerance, ittens_colors), alpha),\n",
    "                     \"Monochromatic\"\n",
    "                 ), hue_tolerance=(0, 11))"
   ]
  },
  {
   "cell_type": "code",
   "execution_count": 46,
   "id": "7bf68e8a",
   "metadata": {},
   "outputs": [
    {
     "data": {
      "application/vnd.jupyter.widget-view+json": {
       "model_id": "3af1841e2f764fddb5963661a7aa7a11",
       "version_major": 2,
       "version_minor": 0
      },
      "text/plain": [
       "interactive(children=(IntSlider(value=5, description='hue_tolerance', max=11), IntSlider(value=5, description=…"
      ]
     },
     "execution_count": 46,
     "metadata": {},
     "output_type": "execute_result"
    }
   ],
   "source": [
    "no_flicker_inter(lambda hue_tolerance,hue_distance: \n",
    "                 display_image(\n",
    "                     merge_alpha(split_complementary(q_im,hue_tolerance,hue_distance,ittens_colors),alpha),\n",
    "                     \"Complementario dividido\"\n",
    "                 ),hue_tolerance=(0,11),hue_distance=(0,11))"
   ]
  },
  {
   "cell_type": "code",
   "execution_count": 47,
   "id": "30f0ce86",
   "metadata": {},
   "outputs": [
    {
     "data": {
      "image/png": "[encoded data removed]",
      "text/plain": [
       "<Figure size 640x480 with 1 Axes>"
      ]
     },
     "metadata": {},
     "output_type": "display_data"
    },
    {
     "data": {
      "image/png": "[encoded data removed]",
      "text/plain": [
       "<Figure size 640x480 with 1 Axes>"
      ]
     },
     "metadata": {},
     "output_type": "display_data"
    }
   ],
   "source": [
    "spl_im = split_complementary(q_im,2,2,ittens_colors)\n",
    "pal = list(get_colors(spl_im).keys())\n",
    "show_color_palette(color_palette)\n",
    "show_color_palette(pal)"
   ]
  },
  {
   "cell_type": "markdown",
   "id": "058b3fed",
   "metadata": {},
   "source": [
    "<a id=\"Color-H\"></a>\n",
    "\n",
    "<h1>Modelo HSV</h1>\n",
    "\n",
    "_La era moderna: pigmento contra luz_\n",
    "\n",
    "<div style=\"text-align: justify;\">\n",
    "Como hemos visto, los modelos clásicos de teoría del color se basan en las relaciones entre diferentes pigmentos al mezclarse. Sin embargo, con la introducción de las imágenes digitales, se descubrió una nueva forma de mostrar color: mezclando luces en sí.\n",
    "Aunque el resultado final es parecido, podemos encontrar notables diferencias: mientras que el color de un pigmento está definido por las longitudes de onda que absorbe, el color de una luz es puramente la longitud de onda emitida. Por este motivo, al mezclar varios pigmentos entre sí el color resultante se aproxima cada vez más al negro, dado que empieza a absorber cada vez más colores. Sin embargo, la mezcla de colores con luz se comporta de diferente manera: debido a que la luz blanca está compuesta por todos los colores, al combinar varias fuentes de color uno se acerca al blanco.\n",
    "Por otro lado encontramos otro tipo de dificultades: la dificultad de representar negro y los colores primarios. Por un lado, el negro pasa de ser un color a la ausencia de luz, siendo la única manera de representarlo apagando las fuentes de luz respectivas. Por otro, los colores primarios cambian.\n",
    "En un modelo aditivo(de pigmento) se tienen como primarios el rojo, amarillo y azul o variaciones de estos (cian y magenta), pero en el caso de la luz son los colores rojo azul y verde son aquellos que no se pueden obtener de combinaciones de colores.\n",
    "<br>\n",
    "\n",
    "![Texto alternativo](images/doc/colores%20primarios.png)\n",
    "\n",
    "Así surge la solución rgb. En cada píxel de una pantalla, se encuentran 3 leds de estos colores primarios y se le asignan 8 bits o 256 valores (0 a 255) para dictaminar la intensidad del brillo de cada uno. A la hora de componer una rueda del color como en un modelo clásico, tenemos que redefinir el término de color complementario: Dos colores son complementarios entre sí cuando la suma de ambos resulta en blanco (255,255,255).\n",
    "\n",
    "![Texto alternativo](images/doc/rueda%20de%20color%20RGB.png)\n",
    "\n",
    "**Modelo HSL**\n",
    "\n",
    "Se trata de una aplicación del modelo de Oswald, usando como base la rueda de color RGB:\n",
    "\n",
    "![Texto alternativo](images/doc/modelo%20HSL.png)\n",
    "\n",
    "1. **Hue** (Matiz): marca con un ángulo (0º a360º) el color, los ángulos de los colores clave son:\n",
    "\n",
    "- 0º: rojo (255,0,0)\n",
    "- 120º: verde(0,255,0)\n",
    "- 240º: azul (0,0,255)\n",
    "\n",
    "2. **Saturation** (Saturación): La intensidad de un color. Un color menos saturado es el resultado de mezclar con gris. Los valores van de 0 a 100, siendo 100 el máximo de saturación posible y 0 el mínimo, que dará como resultado, gris.\n",
    "\n",
    "![Texto alternativo](images/doc/saturacion%20HSL.png)\n",
    "\n",
    "3. **Intensity** (Luminosidad): promedio entre el mayor y el menor componente de color RGB. Esta definición pone los colores primarios y secundarios en un plano que pasa a mitad de camino entre el blanco y el negro. si quiero un color más claro, añadiré blanco (100%, en este caso) y si quiero oscurecerlo, negro (0%).\n",
    "\n",
    "</div>\n"
   ]
  },
  {
   "cell_type": "code",
   "execution_count": 48,
   "id": "7833ce44",
   "metadata": {},
   "outputs": [
    {
     "data": {
      "image/png": "[encoded data removed]",
      "text/plain": [
       "<Figure size 640x480 with 1 Axes>"
      ]
     },
     "metadata": {},
     "output_type": "display_data"
    }
   ],
   "source": [
    "rgba = load_image(\"images/Ho-Oh.png\")\n",
    "image, alpha = split_alpha(rgba)\n",
    "display_image(rgba, \"Imagen original\")"
   ]
  },
  {
   "cell_type": "code",
   "execution_count": 49,
   "id": "cbfb9bc2",
   "metadata": {},
   "outputs": [
    {
     "data": {
      "image/png": "[encoded data removed]",
      "text/plain": [
       "<Figure size 640x480 with 1 Axes>"
      ]
     },
     "metadata": {},
     "output_type": "display_data"
    }
   ],
   "source": [
    "q_im = quantize_image(image, 5)\n",
    "display_image(merge_alpha(q_im, alpha), \"Imagen cuantizada\")"
   ]
  },
  {
   "cell_type": "code",
   "execution_count": 50,
   "id": "2cd72f77",
   "metadata": {},
   "outputs": [],
   "source": [
    "colors = get_colors(q_im)\n",
    "color_palette = list(colors.keys())"
   ]
  },
  {
   "cell_type": "code",
   "execution_count": 51,
   "id": "1a3e2525",
   "metadata": {},
   "outputs": [],
   "source": [
    "def hsv_color_palette(rgb_pallete: list):\n",
    "    hsv = []\n",
    "    for color in rgb_pallete:\n",
    "        pixel = np.uint8([[color]])\n",
    "        hsv_color = cv2.cvtColor(pixel, cv2.COLOR_RGB2HSV)\n",
    "        hsv.append(hsv_color[0][0])\n",
    "    return hsv"
   ]
  },
  {
   "cell_type": "code",
   "execution_count": 52,
   "id": "33829063",
   "metadata": {},
   "outputs": [],
   "source": [
    "hsv_color_pal = hsv_color_palette(color_palette)"
   ]
  },
  {
   "cell_type": "code",
   "execution_count": 53,
   "id": "3ed4c37f",
   "metadata": {},
   "outputs": [],
   "source": [
    "def show_color_palette_hsv(hsv_colors):\n",
    "    \"\"\"Dada una paleta de colores en HSV, muestra gráficamente\n",
    "    los colores en ella\n",
    "\n",
    "    Args:\n",
    "        hsv_colors (list of (int, int, int)): La paleta de colores a\n",
    "        mostrar en formato HSV\n",
    "    \"\"\"\n",
    "    rgb_colors = [cv2.cvtColor(np.uint8([[color]]), cv2.COLOR_HSV2RGB)[\n",
    "        0][0] for color in hsv_colors]\n",
    "    c = np.array(rgb_colors)/255\n",
    "    fig, ax = plt.subplots()\n",
    "    for i, color in enumerate(c):\n",
    "        rect = patches.Rectangle((i, 0), 1, 0.2, facecolor=color)\n",
    "        ax.add_patch(rect)\n",
    "    ax.set_xlim(1, len(hsv_colors))\n",
    "    ax.set_ylim(0, 0.2)\n",
    "    ax.axis(\"off\")"
   ]
  },
  {
   "cell_type": "code",
   "execution_count": 111,
   "id": "c8513c31",
   "metadata": {},
   "outputs": [],
   "source": [
    "def hsv_normalize(colors:list):\n",
    "    for color in colors:\n",
    "        if color[0]> 179:\n",
    "            color[0] = color[0] - 179\n",
    "        if color[0]<0:\n",
    "            color[0] = color[0] + 179\n",
    "    return colors\n",
    "\n",
    "def hsv_analogous(color):\n",
    "    a= [color[0], color[1], color[2]]\n",
    "    a[0]= a[0] + 15\n",
    "    b= [color[0], color[1], color[2]]\n",
    "    b[0]= b[0] - 15\n",
    "    values = hsv_normalize([a,b])\n",
    "    values.append( [color[0], color[1], color[2]])\n",
    "    dict = {1: color, 2: sorted(values, key=lambda x: x[0])}\n",
    "    return dict\n",
    "\n",
    "def hsv_split_complementary(color):\n",
    "    a= [color[0], color[1], color[2]]\n",
    "    a[0]= a[0] + 105\n",
    "    b= [color[0], color[1], color[2]]\n",
    "    b[0]= b[0] + 75\n",
    "    values = hsv_normalize([a,b])\n",
    "    values.append( [color[0], color[1], color[2]])\n",
    "    dict = {1: color, 2: sorted(values, key=lambda x: x[0])}\n",
    "    return dict\n",
    "\n",
    "def hsv_triadic(color):\n",
    "    a= [color[0], color[1], color[2]]\n",
    "    a[0]= a[0] + 60\n",
    "    b= [color[0], color[1], color[2]]\n",
    "    b[0]= b[0] - 60\n",
    "    values = hsv_normalize([a,b])\n",
    "    values.append( [color[0], color[1], color[2]])\n",
    "    dict = {1: color, 2: sorted(values, key=lambda x: x[0])}\n",
    "    return dict\n",
    "\n",
    "def hsv_custom(color, angle):\n",
    "    a= [color[0], color[1], color[2]]\n",
    "    a[0]= a[0] + angle\n",
    "    b= [color[0], color[1], color[2]]\n",
    "    b[0]= b[0] - angle\n",
    "    values = hsv_normalize([a,b])\n",
    "    values.append( [color[0], color[1], color[2]])\n",
    "    dict = {1: color, 2: sorted(values, key=lambda x: x[0])}\n",
    "    return dict\n",
    "\n",
    "def hsv_complementary(color):\n",
    "    a= [color[0], color[1], color[2]]\n",
    "    a[0]= a[0] + 60\n",
    "    values = hsv_normalize([a])\n",
    "    values.append( [color[0], color[1], color[2]])\n",
    "    dict = {1: color, 2: sorted(values, key=lambda x: x[0])}\n",
    "    return dict\n",
    "\n",
    "def hsv_tetradric(color):\n",
    "    a= hsv_analogous(color)\n",
    "    for color in hsv_split_complementary(color).get(2):\n",
    "        a.get(2).append(color)\n",
    "    dict = {1: color, 2: a.get(2)}\n",
    "    return dict\n",
    "\n",
    "def hsv_monochromatic(color, n =2):\n",
    "    i = 1\n",
    "    secondary = []\n",
    "    while i < n:\n",
    "        a= [color[0], color[1], color[2]]\n",
    "        a[1]= i *255/n\n",
    "        secondary.append(a)\n",
    "        i=i+1\n",
    "    dict = {1: color, 2:secondary}\n",
    "    return dict\n",
    "\n",
    "\n",
    "def expand_pallete(pallete: dict, number):\n",
    "    if len(pallete.get(2)) >= number:\n",
    "        return pallete\n",
    "    else:\n",
    "        new = []\n",
    "        i = 0\n",
    "        while i< len(pallete.get(2))-1:\n",
    "            color = [int((pallete.get(2)[i][0]+pallete.get(2)[i+1][0])/2), pallete.get(1)[1], pallete.get(1)[2]]\n",
    "            new.append(pallete.get(2)[i])\n",
    "            new.append(color)\n",
    "            i+=1\n",
    "        new.append(pallete.get(2)[i])\n",
    "        pallete2 = {1: pallete.get(1), 2: sorted(new, key=lambda x: x[0])}\n",
    "        return expand_pallete(pallete2, number)\n"
   ]
  },
  {
   "cell_type": "code",
   "execution_count": 95,
   "id": "42dd723f",
   "metadata": {},
   "outputs": [
    {
     "name": "stdout",
     "output_type": "stream",
     "text": [
      "[47, 172, 176]\n",
      "[62, 172, 176]\n",
      "[77, 172, 176]\n",
      "[[47, 172, 176], [62, 172, 176], [77, 172, 176], array([ 62, 172, 176], dtype=uint8)]\n"
     ]
    },
    {
     "data": {
      "image/png": "[encoded data removed]",
      "text/plain": [
       "<Figure size 640x480 with 1 Axes>"
      ]
     },
     "metadata": {},
     "output_type": "display_data"
    }
   ],
   "source": [
    "analog = hsv_analogous(hsv_color_pal[1])\n",
    "colors = [analog.get(1)]\n",
    "for color in analog.get(2):\n",
    "    print(color)\n",
    "analog.get(2).append(analog.get(1))\n",
    "print(analog.get(2))\n",
    "show_color_palette_hsv(analog.get(2))"
   ]
  },
  {
   "cell_type": "code",
   "execution_count": 97,
   "id": "c0ade295",
   "metadata": {},
   "outputs": [
    {
     "name": "stdout",
     "output_type": "stream",
     "text": [
      "{1: array([ 62, 172, 176], dtype=uint8), 2: [[47, 172, 176], [50, 172, 176], [54, 172, 176], [58, 172, 176], [62, 172, 176], [62, 172, 176], array([ 62, 172, 176], dtype=uint8), [65, 172, 176], [69, 172, 176], [69, 172, 176], [69, 172, 176], [73, 172, 176], [77, 172, 176]]}\n"
     ]
    },
    {
     "data": {
      "image/png": "[encoded data removed]",
      "text/plain": [
       "<Figure size 640x480 with 1 Axes>"
      ]
     },
     "metadata": {},
     "output_type": "display_data"
    }
   ],
   "source": [
    "analog_expanded = expand_pallete(analog, 8)\n",
    "print(analog_expanded)\n",
    "show_color_palette_hsv(analog_expanded.get(2))"
   ]
  },
  {
   "cell_type": "code",
   "execution_count": 113,
   "id": "6caff07e",
   "metadata": {},
   "outputs": [
    {
     "name": "stdout",
     "output_type": "stream",
     "text": [
      "{1: array([ 62, 172, 176], dtype=uint8), 2: [[62, 172, 176], [122, 172, 176]]}\n",
      "[array([ 62, 172, 176], dtype=uint8), [62, 172, 176], [122, 172, 176]]\n"
     ]
    },
    {
     "data": {
      "image/png": "[encoded data removed]",
      "text/plain": [
       "<Figure size 640x480 with 1 Axes>"
      ]
     },
     "metadata": {},
     "output_type": "display_data"
    }
   ],
   "source": [
    "analog = hsv_complementary(hsv_color_pal[1])\n",
    "print(analog)\n",
    "colors = [analog.get(1)]\n",
    "for color in analog.get(2):\n",
    "    colors.append(color)\n",
    "show_color_palette_hsv(colors)\n",
    "print(colors)"
   ]
  },
  {
   "cell_type": "code",
   "execution_count": 114,
   "id": "6bf7f77e",
   "metadata": {},
   "outputs": [
    {
     "name": "stdout",
     "output_type": "stream",
     "text": [
      "{1: array([ 62, 172, 176], dtype=uint8), 2: [[62, 172, 176], [69, 172, 176], [77, 172, 176], [84, 172, 176], [92, 172, 176], [99, 172, 176], [107, 172, 176], [114, 172, 176], [122, 172, 176]]}\n"
     ]
    },
    {
     "data": {
      "image/png": "[encoded data removed]",
      "text/plain": [
       "<Figure size 640x480 with 1 Axes>"
      ]
     },
     "metadata": {},
     "output_type": "display_data"
    }
   ],
   "source": [
    "analog_expanded = expand_pallete(analog, 8)\n",
    "print(analog_expanded)\n",
    "show_color_palette_hsv(analog_expanded.get(2))"
   ]
  },
  {
   "cell_type": "code",
   "execution_count": 115,
   "id": "08894947",
   "metadata": {},
   "outputs": [
    {
     "data": {
      "image/png": "[encoded data removed]",
      "text/plain": [
       "<Figure size 640x480 with 1 Axes>"
      ]
     },
     "metadata": {},
     "output_type": "display_data"
    }
   ],
   "source": [
    "analog = hsv_split_complementary(hsv_color_pal[1])\n",
    "colors = [analog.get(1)]\n",
    "for color in analog.get(2):\n",
    "    colors.append(color)\n",
    "show_color_palette_hsv(colors)"
   ]
  },
  {
   "cell_type": "code",
   "execution_count": 116,
   "id": "c290a08a",
   "metadata": {},
   "outputs": [
    {
     "name": "stdout",
     "output_type": "stream",
     "text": [
      "{1: array([ 62, 172, 176], dtype=uint8), 2: [[62, 172, 176], [80, 172, 176], [99, 172, 176], [118, 172, 176], [137, 172, 176], [144, 172, 176], [152, 172, 176], [159, 172, 176], [167, 172, 176]]}\n"
     ]
    },
    {
     "data": {
      "image/png": "[encoded data removed]",
      "text/plain": [
       "<Figure size 640x480 with 1 Axes>"
      ]
     },
     "metadata": {},
     "output_type": "display_data"
    }
   ],
   "source": [
    "analog_expanded = expand_pallete(analog, 8)\n",
    "print(analog_expanded)\n",
    "show_color_palette_hsv(analog_expanded.get(2))"
   ]
  },
  {
   "cell_type": "code",
   "execution_count": 107,
   "id": "668a234d",
   "metadata": {},
   "outputs": [
    {
     "data": {
      "image/png": "[encoded data removed]",
      "text/plain": [
       "<Figure size 640x480 with 1 Axes>"
      ]
     },
     "metadata": {},
     "output_type": "display_data"
    }
   ],
   "source": [
    "analog = hsv_triadic(hsv_color_pal[1])\n",
    "colors = [analog.get(1)]\n",
    "for color in analog.get(2):\n",
    "    colors.append(color)\n",
    "show_color_palette_hsv(colors)"
   ]
  },
  {
   "cell_type": "code",
   "execution_count": 108,
   "id": "352f405c",
   "metadata": {},
   "outputs": [
    {
     "name": "stdout",
     "output_type": "stream",
     "text": [
      "{1: array([ 62, 172, 176], dtype=uint8), 2: [[2, 172, 176], [17, 172, 176], [32, 172, 176], [47, 172, 176], [62, 172, 176], [77, 172, 176], [92, 172, 176], [107, 172, 176], [122, 172, 176]]}\n"
     ]
    },
    {
     "data": {
      "image/png": "[encoded data removed]",
      "text/plain": [
       "<Figure size 640x480 with 1 Axes>"
      ]
     },
     "metadata": {},
     "output_type": "display_data"
    }
   ],
   "source": [
    "analog_expanded = expand_pallete(analog, 8)\n",
    "print(analog_expanded)\n",
    "show_color_palette_hsv(analog_expanded.get(2))"
   ]
  },
  {
   "cell_type": "code",
   "execution_count": 112,
   "id": "4f9aca3c",
   "metadata": {},
   "outputs": [
    {
     "name": "stdout",
     "output_type": "stream",
     "text": [
      "{1: [167, 172, 176], 2: [[47, 172, 176], [62, 172, 176], [77, 172, 176], [62, 172, 176], [137, 172, 176], [167, 172, 176]]}\n"
     ]
    },
    {
     "data": {
      "image/png": "[encoded data removed]",
      "text/plain": [
       "<Figure size 640x480 with 1 Axes>"
      ]
     },
     "metadata": {},
     "output_type": "display_data"
    }
   ],
   "source": [
    "analog = hsv_tetradric(hsv_color_pal[1])\n",
    "print(analog)\n",
    "show_color_palette_hsv(analog.get(2))"
   ]
  },
  {
   "cell_type": "code",
   "execution_count": 105,
   "id": "fe65da05",
   "metadata": {},
   "outputs": [
    {
     "data": {
      "image/png": "[encoded data removed]",
      "text/plain": [
       "<Figure size 640x480 with 1 Axes>"
      ]
     },
     "metadata": {},
     "output_type": "display_data"
    }
   ],
   "source": [
    "analog = hsv_monochromatic(hsv_color_pal[1], 5)\n",
    "colors = [analog.get(1)]\n",
    "for color in analog.get(2):\n",
    "    colors.append(color)\n",
    "show_color_palette_hsv(colors)"
   ]
  },
  {
   "cell_type": "code",
   "execution_count": 53,
   "id": "63ac3e3c-3b9c-46ca-91a9-9bf9423e9c1c",
   "metadata": {},
   "outputs": [
    {
     "data": {
      "image/png": "[encoded data removed]",
      "text/plain": [
       "<Figure size 640x480 with 1 Axes>"
      ]
     },
     "metadata": {},
     "output_type": "display_data"
    }
   ],
   "source": [
    "oswall_hsv = [[27, 255, 230],\n",
    "              [16, 232, 240],\n",
    "              [2, 230, round(255*.87)],\n",
    "              [0, 227, 194],\n",
    "              [173, 212, 148],\n",
    "              [158, 148, 89],\n",
    "              [120.5, 135, 125],\n",
    "              [101.0, 224, 166],\n",
    "              [88.0, 247, 115],\n",
    "              [81.0, 237, 117],\n",
    "              [80.0, 230,  round(255*.51)],\n",
    "              [60.0,  round(255*.62), 143]]\n",
    "show_color_palette_hsv(oswall_hsv)"
   ]
  },
  {
   "cell_type": "code",
   "execution_count": 54,
   "id": "530deada",
   "metadata": {},
   "outputs": [
    {
     "data": {
      "image/png": "[encoded data removed]",
      "text/plain": [
       "<Figure size 640x480 with 1 Axes>"
      ]
     },
     "metadata": {},
     "output_type": "display_data"
    },
    {
     "data": {
      "image/png": "[encoded data removed]",
      "text/plain": [
       "<Figure size 640x480 with 1 Axes>"
      ]
     },
     "metadata": {},
     "output_type": "display_data"
    },
    {
     "data": {
      "image/png": "[encoded data removed]",
      "text/plain": [
       "<Figure size 640x480 with 1 Axes>"
      ]
     },
     "metadata": {},
     "output_type": "display_data"
    },
    {
     "data": {
      "image/png": "[encoded data removed]",
      "text/plain": [
       "<Figure size 640x480 with 1 Axes>"
      ]
     },
     "metadata": {},
     "output_type": "display_data"
    },
    {
     "data": {
      "image/png": "[encoded data removed]",
      "text/plain": [
       "<Figure size 640x480 with 1 Axes>"
      ]
     },
     "metadata": {},
     "output_type": "display_data"
    },
    {
     "data": {
      "image/png": "[encoded data removed]",
      "text/plain": [
       "<Figure size 640x480 with 1 Axes>"
      ]
     },
     "metadata": {},
     "output_type": "display_data"
    },
    {
     "data": {
      "image/png": "[encoded data removed]",
      "text/plain": [
       "<Figure size 640x480 with 1 Axes>"
      ]
     },
     "metadata": {},
     "output_type": "display_data"
    },
    {
     "data": {
      "image/png": "[encoded data removed]",
      "text/plain": [
       "<Figure size 640x480 with 1 Axes>"
      ]
     },
     "metadata": {},
     "output_type": "display_data"
    },
    {
     "data": {
      "image/png": "[encoded data removed]",
      "text/plain": [
       "<Figure size 640x480 with 1 Axes>"
      ]
     },
     "metadata": {},
     "output_type": "display_data"
    },
    {
     "data": {
      "image/png": "[encoded data removed]",
      "text/plain": [
       "<Figure size 640x480 with 1 Axes>"
      ]
     },
     "metadata": {},
     "output_type": "display_data"
    },
    {
     "data": {
      "image/png": "[encoded data removed]",
      "text/plain": [
       "<Figure size 640x480 with 1 Axes>"
      ]
     },
     "metadata": {},
     "output_type": "display_data"
    },
    {
     "data": {
      "image/png": "[encoded data removed]",
      "text/plain": [
       "<Figure size 640x480 with 1 Axes>"
      ]
     },
     "metadata": {},
     "output_type": "display_data"
    }
   ],
   "source": [
    "oswall_dict = build_ostwald_colors(False)\n",
    "for colors in oswall_dict.keys():\n",
    "    show_color_palette_hsv(oswall_dict.get(colors))"
   ]
  },
  {
   "cell_type": "code",
   "execution_count": null,
   "id": "3835dba7",
   "metadata": {},
   "outputs": [],
   "source": []
  }
 ],
 "metadata": {
  "kernelspec": {
   "display_name": "Python 3 (ipykernel)",
   "language": "python",
   "name": "python3"
  },
  "language_info": {
   "codemirror_mode": {
    "name": "ipython",
    "version": 3
   },
   "file_extension": ".py",
   "mimetype": "text/x-python",
   "name": "python",
   "nbconvert_exporter": "python",
   "pygments_lexer": "ipython3",
   "version": "3.12.2"
  }
 },
 "nbformat": 4,
 "nbformat_minor": 5
}
