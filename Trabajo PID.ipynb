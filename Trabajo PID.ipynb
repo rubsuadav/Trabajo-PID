{
 "cells": [
  {
   "cell_type": "markdown",
   "id": "f98a7b6b-4955-452a-b5ab-66fbea5c8e8d",
   "metadata": {},
   "source": [
    "# Índice\n",
    "1. [Introducción](#Introducción)\n",
    "2. [Métodos genéricos](#Métodos-genéricos)\n",
    "3. [Ittens colors](#Ittens-colors)\n",
    "4. [Color H](#Color-H)\n",
    "5. [Testing](#Testing)\n",
    "6. [Conclusiones](#Conclusiones)"
   ]
  },
  {
   "cell_type": "markdown",
   "id": "0009de8d-1708-4cef-9ab4-df6d1c61bbd7",
   "metadata": {},
   "source": [
    "<a id=\"introduccion\"></a>\n",
    "## Introducción\n",
    "<p align=\"justify\"> A lo largo de la historia del arte, todo artista se ha enfrentado a todo tipo de retos intentando transmitir el mensaje de su obra al público. Aunque áreas del conocimiento como anatomía, perspectiva o geometría son esenciales, el estudio de los colores en sí es un campo que ha sido difícil de estudiar. </p>\n",
    "\n",
    "<p align=\"justify\"> Han existido muchos tratados del color, siempre cambiantes junto con nuestra comprensión científica de la luz. Desde el primer estudio sobre el color de Aristóteles, asociado a los elementos (agua, tierra, fuego y aire) hasta la separación del espectro de luz visible de Isaac Newton, han surgido incontables maneras de relacionar colores entre sí. </p>\n",
    "\n",
    "<p align=\"justify\"> Es por esto que hoy en día un artista tiene a su disposición múltiples esquemas y gráficos que prometen hallar las mejores combinaciones de colores, cada uno basado en un principio diferente. </p>\n",
    "\n",
    "<p align=\"justify\"> Con este trabajo, nos proponemos explorar estas ruedas del color junto con sus bases científicas, ya sea digitalizando ruedas clásicas analógicas, o empleando diferentes algoritmos utilizados para los modelos más nuevos. </p>\n",
    "\n",
    "<p align=\"justify\"> Este trabajo resultará de una herramienta que analiza una imagen, detectando la paleta de colores actuales y ofreciendo una paleta nueva al detectar los colores principales y calcular sus complementarios en función de la rueda del color que elija el usuario. </p>\n"
   ]
  },
  {
   "cell_type": "markdown",
   "id": "5e3e7a97-93e9-4c94-997e-dc3a26af0dc1",
   "metadata": {},
   "source": [
    "<a id=\"Métodos-genéricos\"></a>\n",
    "## Métodos Genéricos"
   ]
  },
  {
   "cell_type": "code",
   "execution_count": 3,
   "id": "c3be876e",
   "metadata": {},
   "outputs": [],
   "source": [
    "import cv2\n",
    "import matplotlib.pyplot as plt\n",
    "from cv2.typing import *\n",
    "import numpy as np\n",
    "import matplotlib.patches as patches\n",
    "\n",
    "\n",
    "def load_image(image_path: str):\n",
    "    \"\"\"Dada la ruta de la imágen, devuelve la imagen en RGBA\n",
    "\n",
    "    Args:\n",
    "        image_path (str): La ruta a la imagen\n",
    "        \n",
    "    Returns:\n",
    "        La imagen en formato RGBA\n",
    "    \"\"\"\n",
    "    \n",
    "    image = cv2.imread(image_path,cv2.IMREAD_UNCHANGED)\n",
    "    return cv2.cvtColor(image, cv2.COLOR_BGRA2RGBA)\n",
    "\n",
    "\n",
    "def display_image(image: MatLike, title: str):\n",
    "    \"\"\"Dada una imagen y un título, muestra la imagen con el título especificado\n",
    "\n",
    "    Args:\n",
    "        image: La matriz de valores de una imagen en RGB(A) \n",
    "        title: Título de la imagen\n",
    "    \"\"\"\n",
    "    plt.imshow(image)\n",
    "    plt.title(title)\n",
    "    plt.axis('off')  # Turn off the axis\n",
    "\n",
    "def split_alpha(image):\n",
    "    \"\"\"Dada una imagen, devuelve los canales RGB y el Alfa por separado\n",
    "\n",
    "    Args:\n",
    "        image: La imagen a separar sus canales\n",
    "\n",
    "    Returns:\n",
    "        rgb_image: Los canales RGB de la imagen\n",
    "        alpha: El canal Alfa de la imagen\n",
    "    \"\"\"\n",
    "    #rgb_image = cv2.cvtColor(image,cv2.COLOR_RGBA2RGB)\n",
    "    rgb_image = image[:,:,:3]\n",
    "    alpha = image[:,:,3]\n",
    "    return rgb_image,alpha\n",
    "\n",
    "def merge_alpha(image,alpha):\n",
    "    \"\"\"Dada una imagen en RGB y una matriz de su mismo tamaño con valores Alfa,\n",
    "    devuelve la imagen en formato RGBA\n",
    "\n",
    "    Args:\n",
    "        image: La imagen en RGB\n",
    "        alpha: La matriz del Alfa\n",
    "\n",
    "    Returns:\n",
    "        La imagen en RGBA\n",
    "    \"\"\"\n",
    "    rgba_image = cv2.cvtColor(image,cv2.COLOR_RGB2RGBA)\n",
    "    #rgba_image = np.resize(image,([*image.shape[:2],4]))\n",
    "    #rgba_image[:,:,3]=alpha\n",
    "    rgba_image = np.dstack((image,alpha))\n",
    "    return rgba_image\n",
    "\n",
    "def quantize_image(image: MatLike, n_colors):\n",
    "    \"\"\"Dada una imagen y el número de colores con la que quieres cuantizar,\n",
    "    devuelve la misma imagen con sus colores cuantizados.\n",
    "\n",
    "    Args:\n",
    "        image: La imagen a cuantizar\n",
    "        n_colors: El número de colores de la imagen resultante\n",
    "        \n",
    "    Returns:\n",
    "        Imagen cuantizada con el número de colores especificados\n",
    "    \"\"\"\n",
    "    Z = image.reshape((-1, 3))\n",
    "    # convert to np.float32\n",
    "    Z = np.float32(Z)\n",
    "    # define criteria, number of clusters(K) and apply kmeans()\n",
    "    criteria = (cv2.TERM_CRITERIA_EPS + cv2.TERM_CRITERIA_MAX_ITER, 10, 1.0)\n",
    "    ret, label, center = cv2.kmeans(\n",
    "        Z, n_colors, None, criteria, 10, cv2.KMEANS_RANDOM_CENTERS)\n",
    "    # Now convert back into uint8, and make original image\n",
    "    center = np.uint8(center)\n",
    "    res = center[label.flatten()]\n",
    "    final_image = res.reshape((image.shape))\n",
    "    \n",
    "    return final_image"
   ]
  },
  {
   "cell_type": "code",
   "execution_count": 4,
   "id": "cb78341e",
   "metadata": {},
   "outputs": [],
   "source": [
    "def get_colors(image_array):\n",
    "    \"\"\"Dada una imagen, devuelve un diccionario que especifica\n",
    "    la cantidad de cada color en la imagen\n",
    "\n",
    "    Args:\n",
    "        image_array: La imagen a medir\n",
    "\n",
    "    Returns:\n",
    "        colors (dict of (int, int, int):int): El diccionario con\n",
    "        las cantidades de cada color en la imagen\n",
    "    \"\"\"\n",
    "    colors = {}\n",
    "    i = 0\n",
    "    j = 0\n",
    "    while i < image_array.shape[0]:\n",
    "        while j < image_array.shape[1]:\n",
    "            pixel = tuple(image_array[i, j])\n",
    "            if pixel in colors:\n",
    "                colors[pixel] = colors[pixel]+1\n",
    "            else:\n",
    "                colors[pixel] = 1\n",
    "            j = j+1\n",
    "        j = 0\n",
    "        i = i+1\n",
    "    return colors"
   ]
  },
  {
   "cell_type": "code",
   "execution_count": 5,
   "id": "0a30bb8e",
   "metadata": {},
   "outputs": [],
   "source": [
    "blacklist = set()"
   ]
  },
  {
   "cell_type": "code",
   "execution_count": 6,
   "id": "fa43a9ac",
   "metadata": {},
   "outputs": [],
   "source": [
    "def cambiar_colores(img: MatLike, paleta: dict):\n",
    "    \"\"\"img es la imagen original\n",
    "    paleta es un diccionario donde las claves son los colores originales y los valores los colores por los que se van a sustituir en RGB\n",
    "    \"\"\"\n",
    "    for color in paleta.keys():\n",
    "        if color in blacklist:\n",
    "            paleta[tuple(color)] = color\n",
    "    \n",
    "#    \n",
    "#    i = 0\n",
    "#    j = 0\n",
    "#    while i < img.shape[0]:\n",
    "#        while j < img.shape[1]:\n",
    "#            \n",
    "#            #print(paleta[tuple(img[i, j])])\n",
    "#            img[i, j] = paleta[tuple(img[i, j])]                \n",
    "#            j = j+1\n",
    "#        j = 0\n",
    "#        i = i+1\n",
    "#    return img\n",
    "    colors = get_colors(img)\n",
    "    og_palette = list(colors.keys())\n",
    "    new_im = img.copy()\n",
    "    for og in og_palette:\n",
    "        mask = cv2.inRange(img,np.array(og),np.array(og))\n",
    "        new_im[mask > 0] = paleta[og]\n",
    "    return new_im"
   ]
  },
  {
   "cell_type": "markdown",
   "id": "33c82c84-6bbf-4cfa-b06f-51d71e82f27f",
   "metadata": {},
   "source": [
    "<a id=\"Ittens-colors\"></a>\n",
    "## Ittens Colors\n",
    "Contenido de la sección..."
   ]
  },
  {
   "cell_type": "code",
   "execution_count": 7,
   "id": "5e87602e",
   "metadata": {},
   "outputs": [],
   "source": [
    "def build_ittens_colors(image: MatLike):\n",
    "    \"\"\"Dada la imagen de la paleta de colores Ittens, devuelve el diccionario\n",
    "    correspondiente a su esquema de colores\n",
    "\n",
    "    Cabe destacar que el diccionario comienza con el índice 1 en vez de 0\n",
    "\n",
    "    Args:\n",
    "        image: La imagen de Ittens\n",
    "\n",
    "    Returns:\n",
    "        ittens_colors (dict of int:list of (int, int, int)): El diccionario\n",
    "        correspondiente al esquema de colores\n",
    "    \"\"\"\n",
    "    ittens_colors = {}\n",
    "    i = 1\n",
    "    j = 1\n",
    "    cut = (int(image.shape[1]/12),  int(image.shape[0]/12))\n",
    "    start_point = [0, cut[0]]\n",
    "    while i < 13:\n",
    "        ittens_colors[i] = []\n",
    "        while j < 13:\n",
    "            y = start_point[0]\n",
    "            x = start_point[1]\n",
    "            cropped_image = image[y:y+cut[0], x:x+cut[1]]\n",
    "            colors = get_colors(quantize_image(cropped_image, 1)).keys()\n",
    "            first_color = next(iter(colors), None)\n",
    "            if first_color is not None:\n",
    "                ittens_colors[i].append(first_color)\n",
    "            start_point[0] = start_point[0] + cut[0]\n",
    "            j += 1\n",
    "        j = 1\n",
    "        start_point[0] = 0\n",
    "        start_point[1] = start_point[1] + cut[1]\n",
    "        i += 1\n",
    "    return ittens_colors"
   ]
  },
  {
   "cell_type": "code",
   "execution_count": 8,
   "id": "a6356b54",
   "metadata": {},
   "outputs": [
    {
     "name": "stdout",
     "output_type": "stream",
     "text": [
      "12\n"
     ]
    }
   ],
   "source": [
    "ittens_image = load_image(\"images/Ittens Colors.png\")\n",
    "ittens_colors = build_ittens_colors(ittens_image[:,:,:3])\n",
    "print(len(ittens_colors))"
   ]
  },
  {
   "cell_type": "code",
   "execution_count": 9,
   "id": "0791ab50",
   "metadata": {},
   "outputs": [],
   "source": [
    "def get_color_value(ittens_colors: dict):\n",
    "    \"\"\"Dado un diccionario de un esquema de colores, muestra todos los colores\n",
    "    del esquema, agrupados por tonalidad\n",
    "\n",
    "    Args:\n",
    "        ittens_colors (dict of int:list of (int, int, int)): diccionario del\n",
    "        esquema de colores\n",
    "    \"\"\"\n",
    "    for color in ittens_colors.keys():\n",
    "        colors = ittens_colors.get(color)\n",
    "        fig, ax = plt.subplots(1, 1, figsize=(10, 2))\n",
    "\n",
    "        # Para cada color en la lista de colores\n",
    "        for i, color in enumerate(colors):\n",
    "            # Convertir el color de formato string a formato RGB\n",
    "            rgb = color\n",
    "            rgb = [c/255. for c in rgb]  # Normalizar a [0, 1]\n",
    "\n",
    "            # Dibujar un rectángulo en el eje con el color correspondiente\n",
    "            rect = patches.Rectangle((i, 0), 1, 1, facecolor=rgb)\n",
    "            ax.add_patch(rect)\n",
    "\n",
    "        # Configurar el eje\n",
    "        ax.set_xlim(0, len(colors))\n",
    "        ax.set_ylim(0, 1)\n",
    "        ax.axis('off')  # Ocultar los ejes\n",
    "\n",
    "        plt.show()"
   ]
  },
  {
   "cell_type": "code",
   "execution_count": 10,
   "id": "bad12b2e-c8f6-4ede-95ce-2098f913b4f7",
   "metadata": {},
   "outputs": [],
   "source": [
    "def show_color_palette(colors):\n",
    "    \"\"\"Dada una paleta de colores, muestra gráficamente\n",
    "    los colores en ella\n",
    "\n",
    "    Args:\n",
    "        colors (list of (int, int, int)): La paleta de colores a\n",
    "        mostrar\n",
    "    \"\"\"\n",
    "    c = np.array(colors)/255\n",
    "    fig,ax = plt.subplots()\n",
    "    for i,color in enumerate(c):\n",
    "        rect = patches.Rectangle((i,0),1,0.2,facecolor=color)\n",
    "        ax.add_patch(rect)\n",
    "    ax.set_xlim(0,len(colors))\n",
    "    ax.set_ylim(0,0.2)\n",
    "    ax.axis(\"off\")"
   ]
  },
  {
   "cell_type": "code",
   "execution_count": 11,
   "id": "57587e22",
   "metadata": {},
   "outputs": [
    {
     "data": {
      "image/png": "[encoded data removed]",
      "text/plain": [
       "<Figure size 1000x200 with 1 Axes>"
      ]
     },
     "metadata": {},
     "output_type": "display_data"
    },
    {
     "data": {
      "image/png": "[encoded data removed]",
      "text/plain": [
       "<Figure size 1000x200 with 1 Axes>"
      ]
     },
     "metadata": {},
     "output_type": "display_data"
    },
    {
     "data": {
      "image/png": "[encoded data removed]",
      "text/plain": [
       "<Figure size 1000x200 with 1 Axes>"
      ]
     },
     "metadata": {},
     "output_type": "display_data"
    },
    {
     "data": {
      "image/png": "[encoded data removed]",
      "text/plain": [
       "<Figure size 1000x200 with 1 Axes>"
      ]
     },
     "metadata": {},
     "output_type": "display_data"
    },
    {
     "data": {
      "image/png": "[encoded data removed]",
      "text/plain": [
       "<Figure size 1000x200 with 1 Axes>"
      ]
     },
     "metadata": {},
     "output_type": "display_data"
    },
    {
     "data": {
      "image/png": "[encoded data removed]",
      "text/plain": [
       "<Figure size 1000x200 with 1 Axes>"
      ]
     },
     "metadata": {},
     "output_type": "display_data"
    },
    {
     "data": {
      "image/png": "[encoded data removed]",
      "text/plain": [
       "<Figure size 1000x200 with 1 Axes>"
      ]
     },
     "metadata": {},
     "output_type": "display_data"
    },
    {
     "data": {
      "image/png": "[encoded data removed]",
      "text/plain": [
       "<Figure size 1000x200 with 1 Axes>"
      ]
     },
     "metadata": {},
     "output_type": "display_data"
    },
    {
     "data": {
      "image/png": "[encoded data removed]",
      "text/plain": [
       "<Figure size 1000x200 with 1 Axes>"
      ]
     },
     "metadata": {},
     "output_type": "display_data"
    },
    {
     "data": {
      "image/png": "[encoded data removed]",
      "text/plain": [
       "<Figure size 1000x200 with 1 Axes>"
      ]
     },
     "metadata": {},
     "output_type": "display_data"
    },
    {
     "data": {
      "image/png": "[encoded data removed]",
      "text/plain": [
       "<Figure size 1000x200 with 1 Axes>"
      ]
     },
     "metadata": {},
     "output_type": "display_data"
    },
    {
     "data": {
      "image/png": "[encoded data removed]",
      "text/plain": [
       "<Figure size 1000x200 with 1 Axes>"
      ]
     },
     "metadata": {},
     "output_type": "display_data"
    }
   ],
   "source": [
    "get_color_value(ittens_colors)"
   ]
  },
  {
   "cell_type": "code",
   "execution_count": 12,
   "id": "bcfe121a",
   "metadata": {},
   "outputs": [
    {
     "data": {
      "image/png": "[encoded data removed]",
      "text/plain": [
       "<Figure size 1000x300 with 1 Axes>"
      ]
     },
     "metadata": {},
     "output_type": "display_data"
    }
   ],
   "source": [
    "plt.figure(figsize=(10, 3))\n",
    "plt.subplot(131)\n",
    "display_image(load_image(image_path=\"images/Ittens Colors.png\"),\n",
    "              'Original Image')\n",
    "\n"
   ]
  },
  {
   "cell_type": "code",
   "execution_count": 13,
   "id": "60079d04-6aa6-4de3-8b86-08278aa4f725",
   "metadata": {},
   "outputs": [],
   "source": [
    "def color_distance(c1,c2):\n",
    "    \"\"\"Dados dos tuplas o matrices de valores RGB, devuelve la distancia euclídea\n",
    "    entre ellos\n",
    "\n",
    "    Args:\n",
    "        c1 (int, int, int):  El primer color en RGB\n",
    "        c2 (int, int, int):  El segundo color en RGB\n",
    "\n",
    "    Returns:\n",
    "        d float: La distancia euclídea entre los dos colores\n",
    "    \"\"\"\n",
    "    \n",
    "    c1_i = np.array(c1).astype(int)\n",
    "    c2_i = np.array(c2).astype(int)\n",
    "    d = np.subtract(c1_i,c2_i)\n",
    "    d = np.linalg.norm(d,axis=2)\n",
    "    return d\n",
    "    \n",
    "def list_distance(n,pos1,pos2):\n",
    "    \"\"\"Dada la longitud de una lista y 2 posiciones en ella,\n",
    "    devuelve la distancia entre ellas.\n",
    "\n",
    "    Se considera que un elemento al inicio de la lista y otro al final\n",
    "    tienen una distancia de 1.\n",
    "\n",
    "    Args:\n",
    "        n (int): Longitud de la lista\n",
    "        pos1 (int): Primer índice de la lista\n",
    "        pos1 (int): Segundo índice de la lista\n",
    "\n",
    "    Returns:\n",
    "        distance (int): Distancia entre las dos posiciones de la lista\n",
    "    \"\"\"\n",
    "    \n",
    "    distance = abs(pos1-pos2)\n",
    "    return min(distance,n-distance)\n",
    "    \n",
    "def matrix_min_indexes(matrix):\n",
    "    \"\"\"Dada una matriz de valores numéricos, devuelve\n",
    "    los índices necesarios para acceder al valor más pequeño\n",
    "\n",
    "    Args:\n",
    "        matrix: La matriz de la que obtener los índices\n",
    "\n",
    "    Returns:\n",
    "        indexes (int, int): Los índices para acceder al valor mínimo\n",
    "    \"\"\"\n",
    "\n",
    "    min_index = np.argmin(matrix)\n",
    "    (i1,i2) = np.unravel_index(min_index,matrix.shape)\n",
    "    return (i1+1,i2)\n",
    "\n",
    "\n",
    "def angle_to_index(angle, list_length) -> float:\n",
    "    \"\"\"Dado un ángulo en grados y una longitud de lista, devuelve el índice\n",
    "    correspondiente al ángulo al tratar la lista como un círculo\n",
    "\n",
    "    Args:\n",
    "        angle (int): El ángulo en grados\n",
    "        list_length (int): La longitud de lista\n",
    "    Returns:\n",
    "        index (int): El índice correspondiente al ángulo\n",
    "    \"\"\"\n",
    "\n",
    "    return round(angle/360*list_length)\n",
    "\n",
    "\n",
    "def rgb_to_hsv(rgb):\n",
    "    \"\"\"Dado una tupla de valor RGB, devuelve la correspondiente tupla en\n",
    "    valores HSV\n",
    "\n",
    "    Args:\n",
    "        rgb (int, int, int): La tupla del valor RGB\n",
    "    Returns:\n",
    "        hsv (int, int, int): La tupla en valores HSV\n",
    "    \"\"\"\n",
    "    to_convert = np.array([[rgb]],dtype=np.uint8)\n",
    "    return cv2.cvtColor(to_convert,cv2.COLOR_RGB2HSV)[0][0]\n",
    "    \n",
    "def rgbs_to_hsv(rgbs):\n",
    "    \"\"\"Dada una lista de valores RGB, los convierte a HSV\n",
    "\n",
    "    Args:\n",
    "        rgbs (list of (int, int, int)): Lista de valores RGB\n",
    "    Returns:\n",
    "        hsv (list of (int, int, int)): Lista de valores HSV\n",
    "    \"\"\"\n",
    "    to_convert = np.array([rgbs],dtype=np.uint8)\n",
    "    return cv2.cvtColor(to_convert,cv2.COLOR_RGB2HSV)[0]\n",
    "\n",
    "\n",
    "def group_hues(colors, n):\n",
    "    \"\"\"Dada una paleta de colores y un número n, agrupa los colores en\n",
    "    n grupos según su tonalidad\n",
    "\n",
    "    Args:\n",
    "        colors (list of (int, int, int)): Los colores a agrupar\n",
    "        n (int): El número de grupos a separar\n",
    "    Returns:\n",
    "        index_groups (list of lists of int): Los grupos, con cada color\n",
    "            representado por su índice en la paleta\n",
    "        color_groups (list of lists of (int, int, int)): Los grupos, con\n",
    "        cada color representado por su valor RGB\n",
    "        group_hues (list of int): Tonalidades medias de cada grupo\n",
    "    \"\"\"\n",
    "    \n",
    "    hues = [rgb_to_hsv(c)[0] for c in colors]\n",
    "    hues = np.float32(hues)\n",
    "    \n",
    "    criteria = (cv2.TERM_CRITERIA_EPS + cv2.TERM_CRITERIA_MAX_ITER, 10, 1.0)\n",
    "    _,labels,centers = cv2.kmeans(hues, n, None, criteria, 10, cv2.KMEANS_RANDOM_CENTERS)\n",
    "    group_hues = centers\n",
    "    labels = labels.flatten()\n",
    "    \n",
    "    groups = [hues[labels==i] for i in range(n)]\n",
    "    index_groups = [np.arange(len(colors))[labels == i].tolist() for i in range(n)]\n",
    "    color_groups = [np.array(colors)[labels==i].tolist() for i in range(n)]\n",
    "    color_groups = [[tuple(c) for c in g] for g in color_groups]\n",
    "\n",
    "    hue_mappings = {h:i for i,g in enumerate(groups) for h in g}\n",
    "    color_mappings = {tuple(colors[i]):hue_mappings[hues[i]] for i in range(len(colors))}\n",
    "    return index_groups, color_groups\n",
    "    \n",
    "def group_hues_threshold(colors,hue_threshold,color_scheme):\n",
    "    \"\"\"Dado un diccionario con cantidades de colores, una tolerancia de\n",
    "    tonalidad y un esquema de colores, agrupa los colores según la tonalidad y\n",
    "    su tolerancia, usando de referencia el esquema de colores.\n",
    "\n",
    "    Una mayor tolerancia facilita que tonalidades más distintas se coloquen\n",
    "    en un solo grupo.\n",
    "\n",
    "    Args:\n",
    "        colors (dict of (int, int, int):int): Las cantidades de colores en imagen\n",
    "        hue_threshold: Tolerancia de agrupamiento de tonalidades\n",
    "        color_scheme: El esquema de colores a usar de referencia\n",
    "\n",
    "    Returns:\n",
    "        groups (list of lists of (int, int)): Los grupos de tonalidades,\n",
    "            representados por sus índices en el esquema de colores\n",
    "        avg_hues (list of int): Tonalidades medias de cada grupo\n",
    "        groups_quantities (list of int): Las cantidades de píxeles en la imagen\n",
    "            por cada grupo\n",
    "    \"\"\"\n",
    "    groups = []\n",
    "    avg_hues = []\n",
    "    groups_quantities = []\n",
    "    palette = list(colors.keys())\n",
    "    quantities = [colors[c] for c in palette]\n",
    "    \n",
    "    hues = find_closest_color(palette,color_scheme)\n",
    "    hues = [t[0] for t in hues]\n",
    "    \n",
    "    available = list(range(len(palette)))\n",
    "    while available:\n",
    "        most_frequent = max(available,key=lambda i:colors[palette[i]])\n",
    "        \n",
    "        distances = [list_distance(len(color_scheme),hues[i],hues[most_frequent]) for i in available]\n",
    "        \n",
    "        group = list(filter(lambda i: distances[i]<=hue_threshold,range(len(available))))\n",
    "        group = [available[i] for i in group]\n",
    "        groups.append(group)\n",
    "        \n",
    "        group_quantity = sum([colors[palette[i]] for i in group])\n",
    "        groups_quantities.append(group_quantity)\n",
    "\n",
    "        avg_hue = round(sum([hues[i] for i in group])/len(group))\n",
    "        avg_hues.append(avg_hue)\n",
    "        \n",
    "        available = list(filter(lambda i: i not in group,available))\n",
    "    return groups, avg_hues, groups_quantities\n",
    "    \n",
    "def find_closest_color(color,color_scheme:dict):\n",
    "    \"\"\"\n",
    "    Dada una tupla de un valor RGB y un esquema de colores, devuelve el índice\n",
    "    del color más cercano en el esquema de colores al color especificado\n",
    "\n",
    "    Args:\n",
    "        color (int, int, int): El color a buscar\n",
    "        color_scheme (dict of int:list of (int, int, int)): El esquema de \n",
    "            colores de referencia\n",
    "    Returns:\n",
    "        min_indices (int, int): Índices correspondientes al color más\n",
    "            parecido en el esquema de colores\n",
    "    \"\"\"\n",
    "    matrix = [color_scheme[key] for key in sorted(color_scheme)]\n",
    "    min_indices = [matrix_min_indexes(color_distance(c,matrix)) for c in color]\n",
    "    return min_indices\n",
    "    \n",
    "def convert_im_to_scheme(quantized_image,color_scheme):\n",
    "    \"\"\"Dada una imagen y un esquema de colores, devuelve la imagen corregida\n",
    "    para ajustarse lo más posible a la paleta de colores.\n",
    "\n",
    "    Args:\n",
    "        quantized_image: La imagen a adaptar\n",
    "        color_scheme: El esquema de colores a usar\n",
    "\n",
    "    Returns:\n",
    "        new_im: La imagen adaptada al esquema de colores\n",
    "    \"\"\"\n",
    "    colors = get_colors(quantized_image)\n",
    "    color_palette = list(colors.keys())\n",
    "    indexes = find_closest_color(color_palette,ittens_colors)\n",
    "    new_im = quantized_image.copy()\n",
    "\n",
    "    for i,og in enumerate(color_palette):\n",
    "        mask = cv2.inRange(quantized_image,np.array(og),np.array(og))\n",
    "        ind = indexes[i]\n",
    "        new_im[mask > 0] = color_scheme[ind[0]][ind[1]]\n",
    "    return new_im\n",
    "    \n",
    "def convert_im_palette(quantized_image,color_palette):\n",
    "    \"\"\"Dada una imagen y una paleta con tantos colores como tenga la imagen,\n",
    "    devuelve una imagen convertida a la paleta de colores especificada.\n",
    "\n",
    "    Args:\n",
    "        quantized_image: La imagen a transformar\n",
    "        color_palette (list of (int, int, int)): La paleta de colores a usar\n",
    "    Returns:\n",
    "        new_im: La imagen con la nueva paleta de colores\n",
    "    \"\"\"\n",
    "    colors = get_colors(quantized_image)\n",
    "    og_palette = list(colors.keys())\n",
    "    new_im = quantized_image.copy()\n",
    "    for i,og in enumerate(og_palette):\n",
    "        mask = cv2.inRange(quantized_image,np.array(og),np.array(og))\n",
    "        new_im[mask > 0] = color_palette[i]\n",
    "    return new_im\n",
    "\n",
    "def complementary_palette(q_im, hue_tolerance, color_scheme):\n",
    "    \"\"\"Dada una imagen, una tolerancia de tonalidad y un esquema de colores,\n",
    "    transforma la imagen convirtiendo los colores no dominantes al complementario\n",
    "    del color dominante\n",
    "\n",
    "    Args:\n",
    "        q_im: Imagen a transformar\n",
    "        hue_tolerance (int): Tolerancia de tonalidad al detectar tonalidad principal\n",
    "        color_scheme: El esquema de colores a usar\n",
    "    Returns: \n",
    "        image: Imagen transformada\n",
    "    \"\"\"\n",
    "    colors = get_colors(q_im)\n",
    "    palette = list(colors.keys())\n",
    "    # Could find a way to remove this extra call to find_closest_color,\n",
    "    # given that group_hues_threshold also calls it\n",
    "    correct_palette = find_closest_color(palette, color_scheme)\n",
    "\n",
    "    hue_groups, avg_hues, hue_quantities = group_hues_threshold(colors, hue_tolerance, color_scheme)\n",
    "\n",
    "    max_hue_i = max(range(len(hue_groups)), key=lambda i: hue_quantities[i])\n",
    "    max_hue = avg_hues[max_hue_i]\n",
    "\n",
    "    complementary_hue = angle_to_index(180, len(color_scheme)) + max_hue\n",
    "    complementary_hue = complementary_hue % len(color_scheme)\n",
    "\n",
    "    to_modify_i = list(filter(\n",
    "        lambda i: i not in hue_groups[max_hue_i],\n",
    "        range(len(palette))\n",
    "    ))\n",
    "\n",
    "    new_palette = np.array(correct_palette[:])\n",
    "    new_palette[to_modify_i, 0] = complementary_hue\n",
    "    new_palette = [color_scheme[i][j] for i, j in new_palette]\n",
    "    return convert_im_palette(q_im, new_palette)\n",
    "\n",
    "def monochromatic_palette(q_im, hue_tolerance, color_scheme):\n",
    "    \"\"\"Dada una imagen, una tolerancia de tonalidad y un esquema de colores,\n",
    "    convierte la imagen entera a la tonalidad dominante.\n",
    "\n",
    "    Args:\n",
    "        q_im: Imagen a transformar\n",
    "        hue_tolerance (int): Tolerancia de tonalidad al detectar tonalidad principal\n",
    "        color_scheme: El esquema de colores a usar\n",
    "    Returns: \n",
    "        image: Imagen transformada\n",
    "    \"\"\"\n",
    "    colors = get_colors(q_im)\n",
    "    palette = list(colors.keys())\n",
    "\n",
    "    correct_palette = find_closest_color(palette, color_scheme)\n",
    "\n",
    "    hue_groups, avg_hues, hue_quantities = group_hues_threshold(colors, hue_tolerance, color_scheme)\n",
    "    \n",
    "    max_hue_i = max(range(len(hue_groups)), key=lambda i: hue_quantities[i])\n",
    "    max_hue = avg_hues[max_hue_i]\n",
    "\n",
    "    new_palette = np.array(correct_palette[:])\n",
    "    new_palette[:,0] = max_hue\n",
    "    new_palette = [color_scheme[i][j] for i, j in new_palette]\n",
    "    return convert_im_palette(q_im, new_palette)\n",
    "\n",
    "def split_complementary(q_im, hue_tolerance, hue_distance, color_scheme):\n",
    "    \"\"\"Dada una imagen, una tolerancia de tonalidad, una distancia de tonalidad\n",
    "    y un esquema de colores, transforma la imagen convirtiendo los colores\n",
    "    no dominantes a 2 colores a la distancia especificada del complementario\n",
    "    del color dominante\n",
    "\n",
    "    Args:\n",
    "        q_im: Imagen a transformar\n",
    "        hue_tolerance (int): Tolerancia de tonalidad al detectar tonalidad principal\n",
    "        hue_distance (int): La distancia al color complementario a usar para los\n",
    "            nuevos colores\n",
    "        color_scheme: El esquema de colores a usar\n",
    "    Returns: \n",
    "        image: Imagen transformada\n",
    "    \"\"\"\n",
    "    colors = get_colors(q_im)\n",
    "    palette = list(colors.keys())\n",
    "\n",
    "    correct_palette = find_closest_color(palette, color_scheme)\n",
    "\n",
    "    hue_groups, avg_hues, hue_quantities = group_hues_threshold(colors, hue_tolerance, color_scheme)\n",
    "    \n",
    "    max_hue_i = max(range(len(hue_groups)), key=lambda i: hue_quantities[i])\n",
    "    max_hue = avg_hues[max_hue_i]\n",
    "\n",
    "    remaining = [g for i,g in enumerate(hue_groups) if i!=max_hue_i]\n",
    "\n",
    "    complementary_hue = angle_to_index(180, len(color_scheme)) + max_hue\n",
    "    complementary_hue = complementary_hue % len(color_scheme)\n",
    "\n",
    "    first_split = complementary_hue + hue_distance\n",
    "    first_split = first_split % len(color_scheme) + 1 if first_split > len(color_scheme) else first_split\n",
    "\n",
    "    second_split = complementary_hue - hue_distance\n",
    "    second_split = second_split + len(color_scheme) if second_split < 1 else second_split\n",
    "\n",
    "    new_palette = np.array(correct_palette[:])\n",
    "\n",
    "    to_modify_i = list(filter(\n",
    "        lambda i: i not in hue_groups[max_hue_i],\n",
    "        range(len(palette))\n",
    "    ))\n",
    "\n",
    "    for index in to_modify_i:\n",
    "        new_palette[index][0] = first_split if index % 2 == 0 else second_split\n",
    "\n",
    "    print(\"Complementary\", complementary_hue)\n",
    "    print(\"Splits\", first_split, second_split)\n",
    "    new_palette = [color_scheme[i][j] for i,j in new_palette]\n",
    "    \n",
    "    return convert_im_palette(q_im, new_palette)\n"
   ]
  },
  {
   "cell_type": "markdown",
   "id": "f3cbf6b5-7e2e-4a75-ae46-b68987e82624",
   "metadata": {},
   "source": [
    "# Aplicación a un diseño de personaje"
   ]
  },
  {
   "cell_type": "markdown",
   "id": "fe22593e-2bb8-42cc-bb89-507f1d583258",
   "metadata": {},
   "source": [
    "## Diseño original"
   ]
  },
  {
   "cell_type": "code",
   "execution_count": 14,
   "id": "50d147f5-3ac4-4c0f-916c-b1a0a58759ac",
   "metadata": {},
   "outputs": [
    {
     "data": {
      "image/png": "[encoded data removed]",
      "text/plain": [
       "<Figure size 640x480 with 1 Axes>"
      ]
     },
     "metadata": {},
     "output_type": "display_data"
    }
   ],
   "source": [
    "rgba = load_image(\"images/Ho-Oh.png\")\n",
    "image,alpha = split_alpha(rgba)\n",
    "display_image(rgba,\"Imagen original\")"
   ]
  },
  {
   "cell_type": "code",
   "execution_count": 15,
   "id": "ada19ef2-fd18-4c6c-9e28-b823a2f4198e",
   "metadata": {},
   "outputs": [
    {
     "data": {
      "image/png": "[encoded data removed]",
      "text/plain": [
       "<Figure size 640x480 with 1 Axes>"
      ]
     },
     "metadata": {},
     "output_type": "display_data"
    }
   ],
   "source": [
    "q_im = quantize_image(image,5)\n",
    "display_image(merge_alpha(q_im,alpha),\"Imagen cuantizada\")"
   ]
  },
  {
   "cell_type": "code",
   "execution_count": 16,
   "id": "1f4ab278-a8ea-4f6f-9730-ad958ce67e72",
   "metadata": {},
   "outputs": [
    {
     "data": {
      "image/png": "[encoded data removed]",
      "text/plain": [
       "<Figure size 640x480 with 1 Axes>"
      ]
     },
     "metadata": {},
     "output_type": "display_data"
    }
   ],
   "source": [
    "colors = get_colors(q_im)\n",
    "color_palette = list(colors.keys())\n",
    "indexes = find_closest_color(color_palette,ittens_colors)\n",
    "new_colors = [ittens_colors[i][j] for i,j in indexes]\n",
    "\n",
    "corrected = convert_im_palette(q_im,new_colors)\n",
    "rgba_corrected = merge_alpha(corrected,alpha)\n",
    "display_image(rgba_corrected,\"Imagen Corregida\")"
   ]
  },
  {
   "cell_type": "markdown",
   "id": "c7574d4d-9579-485f-99d7-361d65b0453c",
   "metadata": {},
   "source": [
    "## Retoque de paleta de colores"
   ]
  },
  {
   "cell_type": "code",
   "execution_count": 17,
   "id": "eb8f9e63-6a65-42c1-9aa2-8729c6d88074",
   "metadata": {},
   "outputs": [
    {
     "data": {
      "image/png": "[encoded data removed]",
      "text/plain": [
       "<Figure size 640x480 with 1 Axes>"
      ]
     },
     "metadata": {},
     "output_type": "display_data"
    },
    {
     "data": {
      "image/png": "[encoded data removed]",
      "text/plain": [
       "<Figure size 640x480 with 1 Axes>"
      ]
     },
     "metadata": {},
     "output_type": "display_data"
    }
   ],
   "source": [
    "show_color_palette(color_palette)\n",
    "show_color_palette(new_colors)"
   ]
  },
  {
   "cell_type": "code",
   "execution_count": 18,
   "id": "54d85bdb",
   "metadata": {},
   "outputs": [
    {
     "name": "stdout",
     "output_type": "stream",
     "text": [
      "[(2, 2, 2), (57, 176, 66), (170, 56, 8), (248, 136, 8), (217, 241, 197)]\n"
     ]
    }
   ],
   "source": [
    "blacklist = set()\n",
    "blacklist.add(color_palette[0])\n",
    "print(color_palette)"
   ]
  },
  {
   "cell_type": "code",
   "execution_count": 19,
   "id": "691503a1",
   "metadata": {},
   "outputs": [
    {
     "name": "stdout",
     "output_type": "stream",
     "text": [
      "{(2, 2, 2): (32, 1, 11), (57, 176, 66): (91, 151, 45), (170, 56, 8): (166, 40, 7), (248, 136, 8): (243, 143, 12), (217, 241, 197): (213, 217, 210)}\n"
     ]
    }
   ],
   "source": [
    "# paleta = {}\n",
    "# for i in range(len(color_palette)-1):\n",
    "#     value = []\n",
    "#     for j in new_colors[i]:\n",
    "#         value.append(j)\n",
    "#     paleta[tuple(color_palette[i])]=value\n",
    "# \n",
    "paleta = {k:v for k,v in zip(color_palette,new_colors)}\n",
    "\n",
    "print(paleta)\n"
   ]
  },
  {
   "cell_type": "code",
   "execution_count": 20,
   "id": "1c65254b",
   "metadata": {},
   "outputs": [
    {
     "data": {
      "image/png": "[encoded data removed]",
      "text/plain": [
       "<Figure size 640x480 with 1 Axes>"
      ]
     },
     "metadata": {},
     "output_type": "display_data"
    }
   ],
   "source": [
    "display_image(cambiar_colores(q_im, paleta), \"metodo nuevo\")"
   ]
  },
  {
   "cell_type": "code",
   "execution_count": 21,
   "id": "0f83c2d0-d8f6-4b27-9096-99326793ea59",
   "metadata": {},
   "outputs": [
    {
     "data": {
      "image/png": "[encoded data removed]",
      "text/plain": [
       "<Figure size 640x480 with 1 Axes>"
      ]
     },
     "metadata": {},
     "output_type": "display_data"
    }
   ],
   "source": [
    "comp_im = complementary_palette(q_im,3,ittens_colors)\n",
    "display_image(merge_alpha(comp_im,alpha),\"Complementary\")\n",
    "#show_color_palette(new_palette)\n",
    "#show_color_palette(list(get_colors(comp_im).keys()))"
   ]
  },
  {
   "cell_type": "code",
   "execution_count": 22,
   "id": "bfd75dd0-d79a-4b9a-b6e6-aafaaaed4fa5",
   "metadata": {},
   "outputs": [
    {
     "data": {
      "image/png": "[encoded data removed]",
      "text/plain": [
       "<Figure size 640x480 with 1 Axes>"
      ]
     },
     "metadata": {},
     "output_type": "display_data"
    }
   ],
   "source": [
    "mono_im = monochromatic_palette(q_im,4,ittens_colors)\n",
    "display_image(merge_alpha(mono_im,alpha),\"Monochromatic\")"
   ]
  },
  {
   "cell_type": "code",
   "execution_count": 23,
   "id": "b943b169-2524-41af-a6ca-23528c9eb045",
   "metadata": {},
   "outputs": [
    {
     "name": "stdout",
     "output_type": "stream",
     "text": [
      "Complementary 4\n",
      "Splits 7 1\n"
     ]
    },
    {
     "data": {
      "image/png": "[encoded data removed]",
      "text/plain": [
       "<Figure size 640x480 with 1 Axes>"
      ]
     },
     "metadata": {},
     "output_type": "display_data"
    }
   ],
   "source": [
    "spl_im = split_complementary(q_im,3,3,ittens_colors)\n",
    "display_image(merge_alpha(spl_im,alpha),\"Split Complementary\")"
   ]
  },
  {
   "cell_type": "code",
   "execution_count": 24,
   "id": "b10783a3-cecb-42dd-9cf0-083acfd54972",
   "metadata": {},
   "outputs": [
    {
     "data": {
      "image/png": "[encoded data removed]",
      "text/plain": [
       "<Figure size 640x480 with 1 Axes>"
      ]
     },
     "metadata": {},
     "output_type": "display_data"
    },
    {
     "data": {
      "image/png": "[encoded data removed]",
      "text/plain": [
       "<Figure size 640x480 with 1 Axes>"
      ]
     },
     "metadata": {},
     "output_type": "display_data"
    }
   ],
   "source": [
    "pal = list(get_colors(spl_im).keys())\n",
    "show_color_palette(color_palette)\n",
    "show_color_palette(pal)"
   ]
  },
  {
   "cell_type": "markdown",
   "id": "d665a908",
   "metadata": {},
   "source": [
    "1º: sacar los colores de la imagen original (get colors)\n",
    "2º: construir un array con los colorores originales (array 1) traducidos de RGB a HSI\n",
    "3º: de los colores originales nos quedamos con el primario en una variable\n",
    "4º: a partir del color primario, calculamos una nueva paleta de colores sumado sobre el ángulo, generando un nuevo array (array 2)\n",
    "5º: crear un método que sustituya los colores de la imagen comparando cada color de array 1 con los colores de array 2. Se asocia a cada color de array 1 el color más próximo de array 2."
   ]
  },
  {
   "cell_type": "markdown",
   "id": "058b3fed",
   "metadata": {},
   "source": [
    "<h1>Modelo hsv</h1>"
   ]
  },
  {
   "cell_type": "code",
   "execution_count": 25,
   "id": "7833ce44",
   "metadata": {},
   "outputs": [
    {
     "data": {
      "image/png": "[encoded data removed]",
      "text/plain": [
       "<Figure size 640x480 with 1 Axes>"
      ]
     },
     "metadata": {},
     "output_type": "display_data"
    }
   ],
   "source": [
    "rgba = load_image(\"images/Ho-Oh.png\")\n",
    "image,alpha = split_alpha(rgba)\n",
    "display_image(rgba,\"Imagen original\")"
   ]
  },
  {
   "cell_type": "code",
   "execution_count": 26,
   "id": "cbfb9bc2",
   "metadata": {},
   "outputs": [
    {
     "data": {
      "image/png": "[encoded data removed]",
      "text/plain": [
       "<Figure size 640x480 with 1 Axes>"
      ]
     },
     "metadata": {},
     "output_type": "display_data"
    }
   ],
   "source": [
    "q_im = quantize_image(image,5)\n",
    "display_image(merge_alpha(q_im,alpha),\"Imagen cuantizada\")"
   ]
  },
  {
   "cell_type": "code",
   "execution_count": 27,
   "id": "2cd72f77",
   "metadata": {},
   "outputs": [
    {
     "name": "stdout",
     "output_type": "stream",
     "text": [
      "[(2, 2, 2), (57, 176, 66), (205, 70, 11), (240, 189, 0), (217, 241, 197)]\n"
     ]
    }
   ],
   "source": [
    "colors = get_colors(q_im)\n",
    "color_palette = list(colors.keys())\n",
    "\n",
    "print(color_palette)"
   ]
  },
  {
   "cell_type": "code",
   "execution_count": 36,
   "id": "1a3e2525",
   "metadata": {},
   "outputs": [],
   "source": [
    "def hsv_color_palette(rgb_pallete: list):\n",
    "    hsv = []\n",
    "    for color in rgb_pallete:\n",
    "        pixel = np.uint8([[color]])\n",
    "        hsv_color = cv2.cvtColor(pixel, cv2.COLOR_RGB2HSV)\n",
    "        hsv.append(hsv_color[0][0])\n",
    "    return hsv"
   ]
  },
  {
   "cell_type": "code",
   "execution_count": 43,
   "id": "33829063",
   "metadata": {},
   "outputs": [
    {
     "name": "stdout",
     "output_type": "stream",
     "text": [
      "[array([0, 0, 2], dtype=uint8), array([ 62, 172, 176], dtype=uint8), array([  9, 241, 205], dtype=uint8), array([ 24, 255, 240], dtype=uint8), array([ 46,  47, 241], dtype=uint8)]\n"
     ]
    }
   ],
   "source": [
    "hsv_color_pal = hsv_color_palette(color_palette)\n",
    "print(hsv_color_pal)"
   ]
  },
  {
   "cell_type": "code",
   "execution_count": 45,
   "id": "3ed4c37f",
   "metadata": {},
   "outputs": [],
   "source": [
    "def show_color_palette_hsv(hsv_colors):\n",
    "    \"\"\"Dada una paleta de colores en HSV, muestra gráficamente\n",
    "    los colores en ella\n",
    "\n",
    "    Args:\n",
    "        hsv_colors (list of (int, int, int)): La paleta de colores a\n",
    "        mostrar en formato HSV\n",
    "    \"\"\"\n",
    "    rgb_colors = [cv2.cvtColor(np.uint8([[color]]), cv2.COLOR_HSV2RGB)[0][0] for color in hsv_colors]\n",
    "    c = np.array(rgb_colors)/255\n",
    "    fig,ax = plt.subplots()\n",
    "    for i,color in enumerate(c):\n",
    "        rect = patches.Rectangle((i,0),1,0.2,facecolor=color)\n",
    "        ax.add_patch(rect)\n",
    "    ax.set_xlim(0,len(hsv_colors))\n",
    "    ax.set_ylim(0,0.2)\n",
    "    ax.axis(\"off\")"
   ]
  },
  {
   "cell_type": "code",
   "execution_count": 46,
   "id": "6c70e19f",
   "metadata": {},
   "outputs": [
    {
     "data": {
      "image/png": "[encoded data removed]",
      "text/plain": [
       "<Figure size 640x480 with 1 Axes>"
      ]
     },
     "metadata": {},
     "output_type": "display_data"
    }
   ],
   "source": [
    "show_color_palette_hsv(hsv_color_pal)"
   ]
  },
  {
   "cell_type": "code",
   "execution_count": null,
   "id": "c82895d7",
   "metadata": {},
   "outputs": [],
   "source": [
    "blacklist = set()\n",
    "blacklist.add(color_palette[0])"
   ]
  }
 ],
 "metadata": {
  "kernelspec": {
   "display_name": "Python 3 (ipykernel)",
   "language": "python",
   "name": "python3"
  },
  "language_info": {
   "codemirror_mode": {
    "name": "ipython",
    "version": 3
   },
   "file_extension": ".py",
   "mimetype": "text/x-python",
   "name": "python",
   "nbconvert_exporter": "python",
   "pygments_lexer": "ipython3",
   "version": "3.10.9"
  }
 },
 "nbformat": 4,
 "nbformat_minor": 5
}
